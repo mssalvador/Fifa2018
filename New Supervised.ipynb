{
 "cells": [
  {
   "cell_type": "code",
   "execution_count": 1,
   "metadata": {
    "collapsed": true,
    "variables": {
     "len(df)": "<p><strong>NameError</strong>: name &#39;df&#39; is not defined</p>\n"
    }
   },
   "outputs": [
    {
     "name": "stderr",
     "output_type": "stream",
     "text": [
      "/home/sidsel/.local/lib/python3.5/site-packages/IPython/core/interactiveshell.py:2787: DtypeWarning: Columns (23,35) have mixed types. Specify dtype option on import or set low_memory=False.\n",
      "  if self.run_code(code, result):\n"
     ]
    },
    {
     "name": "stdout",
     "output_type": "stream",
     "text": [
      "Kolonnenavn: Name                 antal fyldte felter: 17981     datatype: object\n",
      "Kolonnenavn: Age                  antal fyldte felter: 17981     datatype: int64\n",
      "Kolonnenavn: Nationality          antal fyldte felter: 17981     datatype: object\n",
      "Kolonnenavn: Overall              antal fyldte felter: 17981     datatype: int64\n",
      "Kolonnenavn: Potential            antal fyldte felter: 17981     datatype: int64\n",
      "Kolonnenavn: Club                 antal fyldte felter: 17733     datatype: object\n",
      "Kolonnenavn: Value                antal fyldte felter: 17981     datatype: object\n",
      "Kolonnenavn: Wage                 antal fyldte felter: 17981     datatype: object\n",
      "Kolonnenavn: Special              antal fyldte felter: 17981     datatype: int64\n",
      "Kolonnenavn: Acceleration         antal fyldte felter: 17981     datatype: object\n",
      "Kolonnenavn: Aggression           antal fyldte felter: 17981     datatype: object\n",
      "Kolonnenavn: Agility              antal fyldte felter: 17981     datatype: object\n",
      "Kolonnenavn: Balance              antal fyldte felter: 17981     datatype: object\n",
      "Kolonnenavn: Ball control         antal fyldte felter: 17981     datatype: object\n",
      "Kolonnenavn: Composure            antal fyldte felter: 17981     datatype: object\n",
      "Kolonnenavn: Crossing             antal fyldte felter: 17981     datatype: object\n",
      "Kolonnenavn: Curve                antal fyldte felter: 17981     datatype: object\n",
      "Kolonnenavn: Dribbling            antal fyldte felter: 17981     datatype: object\n",
      "Kolonnenavn: Finishing            antal fyldte felter: 17981     datatype: object\n",
      "Kolonnenavn: Free kick accuracy   antal fyldte felter: 17981     datatype: object\n",
      "Kolonnenavn: GK diving            antal fyldte felter: 17981     datatype: object\n",
      "Kolonnenavn: GK handling          antal fyldte felter: 17981     datatype: object\n",
      "Kolonnenavn: GK kicking           antal fyldte felter: 17981     datatype: object\n",
      "Kolonnenavn: GK positioning       antal fyldte felter: 17981     datatype: object\n",
      "Kolonnenavn: GK reflexes          antal fyldte felter: 17981     datatype: object\n",
      "Kolonnenavn: Heading accuracy     antal fyldte felter: 17981     datatype: object\n",
      "Kolonnenavn: Interceptions        antal fyldte felter: 17981     datatype: object\n",
      "Kolonnenavn: Jumping              antal fyldte felter: 17981     datatype: object\n",
      "Kolonnenavn: Long passing         antal fyldte felter: 17981     datatype: object\n",
      "Kolonnenavn: Long shots           antal fyldte felter: 17981     datatype: object\n",
      "Kolonnenavn: Marking              antal fyldte felter: 17981     datatype: object\n",
      "Kolonnenavn: Penalties            antal fyldte felter: 17981     datatype: object\n",
      "Kolonnenavn: Positioning          antal fyldte felter: 17981     datatype: object\n",
      "Kolonnenavn: Reactions            antal fyldte felter: 17981     datatype: object\n",
      "Kolonnenavn: Short passing        antal fyldte felter: 17981     datatype: object\n",
      "Kolonnenavn: Shot power           antal fyldte felter: 17981     datatype: object\n",
      "Kolonnenavn: Sliding tackle       antal fyldte felter: 17981     datatype: object\n",
      "Kolonnenavn: Sprint speed         antal fyldte felter: 17981     datatype: object\n",
      "Kolonnenavn: Stamina              antal fyldte felter: 17981     datatype: object\n",
      "Kolonnenavn: Standing tackle      antal fyldte felter: 17981     datatype: object\n",
      "Kolonnenavn: Strength             antal fyldte felter: 17981     datatype: object\n",
      "Kolonnenavn: Vision               antal fyldte felter: 17981     datatype: object\n",
      "Kolonnenavn: Volleys              antal fyldte felter: 17981     datatype: object\n",
      "Kolonnenavn: CAM                  antal fyldte felter: 15952     datatype: float64\n",
      "Kolonnenavn: CB                   antal fyldte felter: 15952     datatype: float64\n",
      "Kolonnenavn: CDM                  antal fyldte felter: 15952     datatype: float64\n",
      "Kolonnenavn: CF                   antal fyldte felter: 15952     datatype: float64\n",
      "Kolonnenavn: CM                   antal fyldte felter: 15952     datatype: float64\n",
      "Kolonnenavn: ID                   antal fyldte felter: 17981     datatype: int64\n",
      "Kolonnenavn: LAM                  antal fyldte felter: 15952     datatype: float64\n",
      "Kolonnenavn: LB                   antal fyldte felter: 15952     datatype: float64\n",
      "Kolonnenavn: LCB                  antal fyldte felter: 15952     datatype: float64\n",
      "Kolonnenavn: LCM                  antal fyldte felter: 15952     datatype: float64\n",
      "Kolonnenavn: LDM                  antal fyldte felter: 15952     datatype: float64\n",
      "Kolonnenavn: LF                   antal fyldte felter: 15952     datatype: float64\n",
      "Kolonnenavn: LM                   antal fyldte felter: 15952     datatype: float64\n",
      "Kolonnenavn: LS                   antal fyldte felter: 15952     datatype: float64\n",
      "Kolonnenavn: LW                   antal fyldte felter: 15952     datatype: float64\n",
      "Kolonnenavn: LWB                  antal fyldte felter: 15952     datatype: float64\n",
      "Kolonnenavn: Preferred Positions  antal fyldte felter: 17981     datatype: object\n",
      "Kolonnenavn: RAM                  antal fyldte felter: 15952     datatype: float64\n",
      "Kolonnenavn: RB                   antal fyldte felter: 15952     datatype: float64\n",
      "Kolonnenavn: RCB                  antal fyldte felter: 15952     datatype: float64\n",
      "Kolonnenavn: RCM                  antal fyldte felter: 15952     datatype: float64\n",
      "Kolonnenavn: RDM                  antal fyldte felter: 15952     datatype: float64\n",
      "Kolonnenavn: RF                   antal fyldte felter: 15952     datatype: float64\n",
      "Kolonnenavn: RM                   antal fyldte felter: 15952     datatype: float64\n",
      "Kolonnenavn: RS                   antal fyldte felter: 15952     datatype: float64\n",
      "Kolonnenavn: RW                   antal fyldte felter: 15952     datatype: float64\n",
      "Kolonnenavn: RWB                  antal fyldte felter: 15952     datatype: float64\n",
      "Kolonnenavn: ST                   antal fyldte felter: 15952     datatype: float64\n",
      "('GK kicking', ['73-1', '68-2', '67+4', '65+1', '61-3', '63-7', '59-1', '60+2', '62+2', '60-1', '61+2', '60+1', '54-1', '65+4', '55+2', '68+8', '57+2', '55-1', '56+4'])\n",
      "('GK diving', ['81-2', '76+1', '76-1', '75+1', '78+3', '72-1', '75+4', '70-2', '73+2', '71-2', '65+2', '68-1', '67+2', '63+2', '62-1', '66+1', '63+1', '64-3', '62+1', '64+5', '54-3', '56+2', '55+5', '55+4'])\n",
      "('GK positioning', ['71-2', '69+1', '66-2', '69+2', '64+1', '65+4', '60+3', '66-1', '65+1', '63-1', '70+2', '62-1', '64+2', '62+4', '61-1', '60+1', '58+2', '58+4', '59+2', '51+3', '45-1'])\n",
      "('GK handling', ['78-2', '72-1', '78-1', '67-1', '69+1', '75-1', '73+1', '66+3', '65+1', '63+2', '64+3', '66+2', '63-1', '65+3', '59+3', '58-1', '60+2', '60-1', '57+2', '52+2', '56+4', '53-1', '47-1', '52+3', '55+2'])\n",
      "('GK reflexes', ['86-2', '83-1', '85-1', '79+1', '74+1', '81-1', '83+3', '78+2', '73-1', '75+2', '70+1', '70-1', '69+2', '67+2', '62+3', '68+2', '65+1', '65-3', '65-1', '61-3', '67+8', '60+1', '55+5', '56-4', '53+3', '55+3', '57+5'])\n",
      "('Penalties', ['81+7', '65+2', '70-5', '64+6', '70+4', '67+11', '55+1', '70+2', '70+3', '36-10', '53+2', '67+15', '69+2', '61+5', '51+1', '58+13', '51+5', '56+7', '66+2', '58-4', '69-1', '40-1', '49-1', '61-6', '52-2', '60-7', '60-3', '58+5', '46-1', '61-1'])\n",
      "('Volleys', ['70+1', '69+3', '72+1', '71+1', '69+4', '66+1', '68+2', '64+1', '69+1', '61+5', '62-4', '49+2', '39+4', '59+1', '60+2', '71+8', '51+1', '49+6', '63+5', '32-1', '52+8', '65-2', '53-1', '62+4', '59+2', '40-12', '57+1', '55-4', '57+2', '29-1', '54+10', '51-1', '56+6', '51+7', '33-1', '52-1', '15+8'])\n",
      "('Free kick accuracy', ['81+1', '66-5', '73+1', '57+5', '60-4', '56+4', '60+8', '53+11', '63-7', '77-3', '58+2', '69+1', '52+10', '62-3', '69-2', '65+1', '70+5', '39+2', '58+6', '62-4', '65+5', '61+10', '71+4', '56+11', '64+1', '39+10', '55+21', '64+8', '70+3', '68+4', '70+17', '69+12', '65+24', '52+9', '70+21', '39-9', '66+30', '64-3', '70+4', '67-1', '39-6', '65+29', '56-2', '64-2', '36+4', '53+1', '32-1', '45-1'])\n",
      "('Balance', ['90+2', '71+2', '85+2', '89+2', '65+7', '85+1', '47-3', '70+3', '72+6', '80+6', '64+1', '64+4', '52-2', '61-1', '73+4', '70+7', '66+6', '33+4', '53+1', '66+2', '63+2', '82+2', '66+4', '69+3', '80-6', '56-7', '67-2', '49+2', '64+2', '86-3', '62+1', '73-1', '72-2', '63+5', '81-1', '53-13', '50-5', '70+1', '55-3', '70+2', '73+5', '81+1', '65+1', '79-1', '75+1', '77+2', '63-2', '60+3', '68-4', '73-3', '58-1', '71+1'])\n",
      "('Aggression', ['58-10', '65+10', '57+5', '66+7', '77+5', '68+1', '68+3', '87+1', '82+1', '76+3', '72+3', '80+3', '65-2', '72+5', '42+7', '78-3', '74+7', '82+2', '81+2', '70-1', '75+1', '76+7', '67+4', '66+3', '78+3', '60+12', '71+1', '65-1', '69+10', '74-6', '23+3', '57+1', '67+6', '67+39', '67-2', '53+14', '33+2', '51+2', '56+1', '65+2', '72-2', '66-2', '82+10', '78+17', '72+14', '59+1', '64+3', '58-1', '53+4', '49+4', '67-3', '65+4', '59-7', '61+1', '68-3', '85-2', '53+5', '51+1', '58+7', '48+2', '57+9', '40+2', '30-1', '61+2', '60+8', '46+1'])\n",
      "('Jumping', ['74+1', '76-4', '67+2', '65+2', '73-8', '59+1', '77-4', '78+1', '86+1', '59+2', '80-2', '68+1', '76+4', '68-1', '81+2', '76-5', '72+4', '63+2', '67-2', '75-6', '73-3', '70+14', '70-3', '66-1', '64+4', '82+6', '75-4', '74+4', '73-4', '78-2', '72-1', '68+7', '60+1', '77-2', '79+2', '64+2', '67+8', '74+7', '65+1', '68+6', '64-4', '59-1', '76-3', '66-3', '69+7', '63+1', '77+2', '57+4', '62+1', '70-2', '71+2', '67+16', '71+9', '87+2', '66+2', '76-2', '46+2', '70+1', '68+2', '39-2', '60+3', '73+5', '66+5', '63+7', '52-2', '60-2'])\n",
      "('Agility', ['60+6', '78+1', '58-2', '71+1', '70+1', '69+1', '68+2', '74+4', '64-1', '75-1', '64-2', '43-3', '84+1', '58+4', '68-2', '77-8', '76-3', '50-8', '58-4', '70+14', '70-2', '70+3', '81-2', '63-2', '65+4', '55-4', '65+1', '66+3', '48-3', '46+13', '67+8', '83+6', '68+1', '62-3', '83+3', '85+2', '82-8', '82+3', '61-3', '72-1', '83+1', '66-3', '62+1', '67+2', '79+2', '55+1', '71-4', '72+1', '59+4', '67-2', '60+7', '36+2', '62+3', '48+3', '35-2', '68+10', '53+2', '49+1', '63+3', '75+1', '50-1', '77+2', '46+1'])\n",
      "('Curve', ['81+2', '77+2', '78+1', '60+7', '75-2', '74+2', '71+1', '76+1', '68+4', '39+7', '67+3', '79+1', '73-2', '75+10', '61+2', '67+4', '59+24', '70+1', '58+10', '72-3', '69+7', '65+3', '64+1', '61+5', '52-6', '66+3', '73+2', '73+1', '52+4', '39+8', '53+1', '64+2', '59+1', '68+2', '72+2', '58+3', '62+4', '66+5', '63+11', '71+3', '62+1', '63-2', '69+15', '55+22', '57+4', '58+21', '69+8', '68-3', '50-3', '63+19', '43+3', '45+5', '57-1', '64+9', '34+3', '37-1', '42-3', '28+5', '36+6', '56+2', '53+10', '46+12', '31-1', '56+1', '45-1', '41+5', '27+2'])\n",
      "('Shot power', ['81+1', '73+3', '85+6', '83+3', '77+3', '78-1', '75+4', '74-1', '70+28', '73+2', '70+13', '75+3', '73+1', '68-1', '58+9', '66+1', '80+6', '63+2', '73-5', '56+2', '63-3', '64+29', '79-3', '67+2', '76+1', '74-2', '70+1', '54+1', '71-6', '71+4', '68+2', '62-1', '71+1', '64+10', '63+1', '67+1', '69+2', '58+5', '75+1', '60+5', '65+2', '69+4', '57+3', '81-4', '74+2', '65+3', '55+1', '64-1', '55-4', '43-4', '66-2', '56-1', '61+3', '57-1', '60-2', '58-3', '52+3', '67+10', '50+4', '54+2', '43+10', '45-1', '36+13', '56-2', '21+1'])\n",
      "('Heading accuracy', ['85-1', '73+1', '76+2', '74+1', '72+3', '78+1', '78-1', '75+2', '75-1', '65+2', '68-7', '42-7', '69+2', '70+2', '56+2', '46+8', '74+2', '64+4', '72-2', '72+2', '60+2', '64-1', '55+7', '59+2', '68-4', '43+3', '69-1', '74-2', '61+1', '61+2', '63+4', '57+5', '71-1', '59-5', '65-1', '59-1', '62-1', '72+1', '62+3', '64-3', '63-3', '56-6', '53+6', '64+1', '60+4', '62+4', '65+1', '60-5', '50-10', '54+3', '48-2', '69-3', '63+1', '64+2', '52+5', '57+2', '37+2', '57-1', '60-1', '70+4', '48+1', '43-1', '60+6', '52-11', '47+7', '43+2', '41+2'])\n",
      "('Long shots', ['80+3', '73+2', '72+2', '79+3', '62+2', '74+1', '73+1', '78+2', '64+2', '73-1', '66+2', '60+6', '70+5', '77-2', '68-2', '65+1', '69+1', '70-4', '67-1', '68-4', '55+5', '64+3', '55+25', '75+1', '52-3', '63+3', '68+1', '75+6', '66+4', '43+1', '53-14', '52+1', '72+5', '63+1', '59+2', '59-1', '69+4', '66+1', '53+9', '64-1', '59+1', '61+3', '54+8', '71+2', '62-1', '62+1', '60+7', '61+1', '41-4', '58+3', '66-2', '43-1', '60+4', '38+10', '59+20', '60-2', '63+10', '27+3', '42+20', '56+5', '57+1', '23-1', '50+1', '39-1', '35+5', '47+3', '17+10'])\n",
      "('Acceleration', ['70+9', '80+1', '49-1', '67+2', '79-2', '65-2', '91-2', '74-3', '75+1', '41-6', '74+1', '70+3', '75+5', '74+2', '71+2', '68+1', '71+4', '89-2', '58-10', '78+1', '86+1', '66-1', '66+1', '74+4', '71-3', '80+2', '64-2', '57-4', '78+3', '73+9', '82-3', '68+3', '68+2', '55-8', '55-1', '43-2', '77+3', '82+10', '49-10', '72+1', '61+1', '79+8', '70-2', '60-2', '86+7', '81+4', '69+3', '65-10', '64-3', '73+4', '75-6', '64+5', '33+10', '92+2', '76-1', '62+2', '65+7', '58+8', '44-2', '77+1', '82+3', '68-1', '61+3', '73+3', '59+1', '64+12', '85-1', '78+14', '59-1', '75+4', '73+10', '71+6', '77+13', '62+1', '64-5'])\n",
      "('Composure', ['79+1', '74+2', '70-1', '75+1', '75+2', '66+4', '74+1', '65-8', '68-3', '82+18', '72+6', '67-1', '70+3', '78+10', '72-2', '66+2', '64+4', '74-5', '65+2', '72-1', '68+2', '67+1', '68+3', '65+5', '64-3', '60-3', '69+2', '61+2', '69+1', '58-1', '61+3', '57-3', '59+2', '55-3', '61-1', '68-2', '68-1', '28+4', '63-1', '50+4', '60-1', '62+3', '59-2', '64+24', '62+1', '63+2', '63+3', '58+5', '62-2', '56+2', '52-3', '62-1', '70+5', '55+4', '52+1', '65-1', '64-1', '58-2', '54-4', '58+2', '55+3', '65-2', '56-1', '51+5', '51+3', '51-4', '56+7', '44+1', '56+1', '52-2', '43+1', '42+1', '40+1', '45+2', '44+5', '35+2'])\n",
      "('Positioning', ['80+1', '80+3', '76-2', '76+1', '80+2', '72+2', '72+4', '73-2', '75+1', '68+2', '58-1', '74+1', '74+3', '56+4', '71-3', '57+2', '70+3', '68-1', '77+1', '72+8', '66+2', '66-2', '62-3', '69+2', '65+2', '63-3', '65+1', '74+2', '70+1', '58+10', '66+1', '68+6', '70-2', '63+4', '66-8', '61+2', '62-2', '64+1', '70+2', '70+9', '69-1', '68+4', '66+5', '67+4', '10-3', '62-1', '67+3', '67+1', '51+2', '55+3', '60+2', '67+2', '56+29', '69+3', '54+1', '51-4', '61+1', '46+4', '52-7', '40+14', '58+2', '56+3', '39+2', '60-2', '50+2', '30-1', '56-4', '53+1', '52+1', '50+7', '51-1', '47+6', '47+1', '56+7', '17+10', '27+3', '42+1', '52-1'])\n",
      "('Sliding tackle', ['71+4', '82-1', '77-1', '31+8', '73+1', '79-2', '70+3', '78-1', '77+1', '58+37', '77+3', '78+1', '66+2', '72+1', '73+2', '70+1', '34+14', '65-1', '74+2', '73+3', '42+9', '32-4', '70+2', '80+5', '58+2', '66-3', '67-2', '65-2', '16+4', '68-1', '68+1', '69-1', '67-1', '68+3', '70-1', '69+2', '71-3', '18+3', '20+2', '29-9', '66-1', '52+12', '67-3', '48+6', '55+1', '65+1', '62+3', '44+26', '62-2', '63+5', '61+2', '64+1', '53-3', '59+2', '60+1', '61+5', '63+14', '62-4', '64+4', '60-2', '60-4', '65-3', '21+10', '67+2', '63+1', '31+10', '61-2', '23-2', '59+3', '51+3', '68-5', '34-1', '52+2', '66+1', '54+1', '52+1', '57+4', '56+2', '41+1', '54+3', '50-1'])\n",
      "('Crossing', ['79+2', '85+1', '63+2', '79+4', '70+2', '74-5', '80+2', '68-8', '72+1', '74+2', '61+1', '71+2', '70-3', '65-3', '72+4', '66-3', '72-8', '79+3', '73+3', '56-3', '61-4', '67+1', '66-2', '60+2', '61-3', '67-2', '41+5', '62+1', '65-1', '66+2', '65+2', '64+2', '37-6', '66+1', '57-10', '66+7', '68+4', '36+10', '63+5', '67-1', '50+1', '62-3', '69-1', '60-1', '46+1', '71+1', '64-1', '58+2', '67+9', '53+1', '68+2', '59+2', '65+3', '54+10', '73-1', '64-5', '53+2', '54+2', '50+8', '58+1', '51+8', '60+8', '50+3', '65+6', '51-3', '54+7', '55+3', '61+29', '60+5', '48-7', '59+9', '55-2', '42+3', '58+11', '56-1', '38-9', '52-6', '56+3', '32-1', '45+9', '55+1', '65+1', '63-1', '36+6', '64+37', '48+7', '45+1', '33+3', '32+2'])\n",
      "('Interceptions', ['37+1', '43+4', '81+2', '76+2', '64+13', '76+1', '69+1', '71+3', '73+1', '75-1', '74+1', '64+1', '72+1', '49+13', '49+17', '48-11', '36-10', '75-2', '57-2', '21-11', '66+1', '69-4', '67-2', '68-3', '67+1', '68+2', '66+2', '68+1', '68-1', '68-4', '67+3', '66-2', '61+1', '74+7', '17+1', '67-4', '62-1', '68+4', '64-1', '60+10', '67-1', '10-11', '45+6', '65+1', '64+12', '69+5', '59+4', '64+2', '36+24', '63+29', '39+10', '49+15', '59+2', '54+2', '64+4', '48+2', '56+4', '62+5', '23+10', '58+4', '58-6', '55+2', '63+2', '55+5', '57+3', '58-3', '18-6', '60+2', '58-4', '63-2', '48+1', '59+1', '57+1', '44+3', '56+1', '48+24', '24-1', '57-1', '50+5', '15-11', '34+5', '27+20', '49+2', '52+2', '31+1'])\n",
      "('Strength', ['70+1', '79+1', '66+1', '34+3', '65-2', '76+2', '71+3', '68+1', '47+3', '52-5', '80+1', '68+6', '85-1', '75+5', '87-4', '75+2', '83+5', '77-1', '56-5', '85+1', '68+4', '76+1', '78+2', '65-1', '83-1', '54+5', '84+6', '60+2', '74+1', '81-3', '51-7', '68+2', '75+1', '57-3', '78-6', '69-3', '69+1', '65+3', '85-5', '78-2', '73-1', '70-1', '67-5', '74+2', '78+1', '72-2', '83+4', '74-1', '57-10', '84-4', '73+3', '48-2', '80-1', '66+5', '57+1', '40+10', '68-1', '55-6', '69+11', '79-1', '71-1', '54-7', '54+2', '82-5', '50+3', '73-2', '59-19', '57+4', '68+3', '74+4', '33+2', '87-3', '58+10', '70+3', '37+5', '71-4', '32+2', '55-1', '69+8', '74+8', '66+6', '65+2', '70+6', '45-10', '67+7', '47+9', '48+12', '72+3', '70+15'])\n",
      "('Vision', ['72+2', '79+1', '77+1', '77-4', '73-2', '57-1', '73+1', '78+3', '78+1', '78+2', '66+6', '74+2', '67-3', '74+1', '71-2', '62+8', '67-1', '70+2', '66-2', '38-10', '70-4', '73-3', '68+3', '66+1', '68-3', '62+1', '63-4', '69+10', '36-10', '74-2', '69+1', '72+1', '52+5', '68+1', '61+2', '48+2', '58+5', '67+3', '57-4', '69+2', '54-4', '70-2', '66+10', '72+4', '60-5', '70-1', '52-1', '67+1', '65+2', '42-5', '65+1', '65+5', '63+2', '71+4', '53+1', '64+1', '29+15', '71+1', '71-1', '66+2', '57+8', '62+11', '60-3', '52+4', '60+8', '61+11', '55-2', '56+3', '54+1', '63+7', '66-5', '45+24', '52+1', '49+14', '60+4', '59+5', '52+3', '49+1', '61-1', '44+1', '31+3', '37+1', '58+3', '55+8', '51-2', '44+3', '30+1', '47+1', '50+1'])\n",
      "('Stamina', ['68+2', '82+1', '85+2', '73+3', '75+1', '77+2', '84+7', '75+19', '58-2', '70+2', '74+2', '66+4', '79+2', '41+20', '72-3', '72+2', '72+1', '78-2', '84-3', '56+3', '86-3', '78-1', '80+2', '60+2', '69-1', '85+1', '62-4', '70-1', '63+2', '64+7', '76+3', '68-2', '66-8', '87+3', '85+3', '62-1', '60-4', '81-4', '78+3', '74+9', '74+1', '65-4', '72-1', '76+6', '67+2', '43-2', '73-2', '67-1', '65-1', '72-10', '65+4', '29-11', '59+3', '79-3', '72-2', '69+3', '65+1', '74+4', '64-3', '79+8', '68-1', '64-2', '64+2', '69+1', '73+10', '58-10', '67-2', '66+9', '80-2', '52+7', '61-22', '66+2', '75+20', '70-3', '51-8', '67+1', '74-1', '90+7', '61+30', '54+12', '60+4', '62+1', '73+22', '44-3', '48-1', '63+4', '40+1', '70+6', '69-7', '78+38', '29-9', '62+3', '58+2', '61+6', '53+2', '60-2'])\n",
      "('Marking', ['84-1', '65+1', '77-2', '78-2', '73+2', '68+2', '78+1', '64+22', '63+1', '62+4', '25+4', '70-1', '74+1', '70+1', '42+21', '73-1', '72+1', '57+1', '79+4', '72+3', '41+7', '75-3', '70+2', '24-7', '67-4', '57+2', '68-1', '59+2', '71-2', '69-2', '74-4', '70-2', '65+2', '62-1', '69+1', '66+2', '59-3', '65+4', '66-2', '61+2', '68-3', '20+3', '70+4', '24+4', '64-3', '66+1', '34-3', '67-6', '55+16', '65-1', '72-1', '43+3', '60-2', '66+9', '60+1', '63+2', '62+6', '64+1', '68+4', '61+1', '56-5', '52+3', '63+4', '64+6', '31-1', '50-4', '62-3', '54+4', '60+2', '60-1', '57+5', '63-1', '64-4', '59+4', '58-2', '57-6', '61+3', '62-4', '22-2', '14-19', '55-1', '54+3', '59-2', '57+3', '40+6', '56-1', '23-1', '25-1', '56+1', '54+6', '15+10', '46+2', '50+1', '45+1', '47+3'])\n",
      "('Finishing', ['52+2', '81+1', '79+1', '60+2', '79+3', '70+1', '69+4', '74+1', '72-1', '78+1', '69+1', '74+2', '64-3', '45+1', '73+1', '71+1', '80-3', '74+3', '75+1', '65-1', '71-1', '73-1', '77+1', '77-1', '67+3', '70-1', '73+2', '58-2', '58-1', '65+2', '57-3', '71-2', '47+10', '59+2', '65+3', '69+2', '68+2', '62+6', '52+1', '53+4', '69+5', '65-2', '70+2', '44+4', '66+3', '63-1', '58+3', '59+1', '66+1', '50+2', '36-12', '64-2', '68+4', '45+2', '52-3', '58+7', '53-2', '63-3', '33+3', '65+1', '58-4', '58+6', '55+3', '42+3', '64+2', '62-1', '61+1', '61+2', '40-1', '67+2', '38-1', '69-2', '61+3', '62+2', '57-5', '64+5', '51-1', '37+4', '68-3', '63-2', '32-8', '35+3', '49+2', '38+10', '46+1', '26-1', '53-4', '69+3', '54-1', '57-2', '49+1', '48+3', '13+7', '29+13', '56-1'])\n",
      "('Sprint speed', ['73+7', '83+1', '53-1', '69+1', '84+1', '69+2', '89+1', '58+3', '80-3', '77-4', '73+1', '90+1', '67+3', '89+3', '70-9', '74+1', '38-3', '70+1', '49+8', '82-3', '71+1', '76+5', '78+2', '64+1', '69+3', '75-3', '85-4', '77+2', '63+4', '68+2', '88-2', '64+3', '55-9', '68-1', '77+4', '71-2', '85+1', '68+1', '72-2', '66+4', '80+2', '80-2', '65-3', '67-2', '80+3', '69+6', '79-2', '78+5', '47-2', '83-2', '57+1', '52-14', '73+6', '37-10', '86-1', '58+4', '54+11', '84+5', '77+3', '66+5', '76+1', '55-10', '69-1', '83+11', '68-4', '77+7', '68+6', '71+5', '70-2', '80-5', '68+7', '85+5', '74+4', '73+2', '71-5', '66-10', '90-2', '60-2', '70-10', '67+12', '55+17', '32-1', '87-2', '72-1', '66+6', '64+2', '81+2', '70+5', '66+8', '46-3', '75+3', '70+15', '71+3', '65+3', '71+39', '70+3', '74+2', '61+1', '68+4', '95+2', '65+2', '75+8', '58-2', '73-3', '72+12', '79+17', '60+1', '63-11'])\n",
      "('Reactions', ['79+2', '78+2', '73+1', '74-2', '76-1', '74+6', '74+4', '77+2', '76+3', '71-2', '72+1', '79+4', '77+1', '75-2', '71+1', '73+3', '71-1', '69-1', '70-1', '72+4', '73+7', '63-2', '66-1', '76+1', '68+1', '66-3', '67+1', '59+4', '61+2', '68+3', '62-3', '75+1', '66+2', '64+3', '76+2', '56+4', '62-2', '69-2', '61-2', '60-2', '65+1', '69+6', '62+1', '55-1', '66+13', '62+2', '58-2', '61+1', '63+4', '53-1', '65-1', '59-3', '64+5', '59+2', '65-2', '67+2', '58-1', '60-5', '62+6', '68+2', '57-2', '63-9', '62+9', '63-1', '59+1', '52-1', '57-1', '59-1', '59+10', '55+2', '56+1', '61-1', '56-1', '54+6', '56-2', '56+3', '57+3', '51+1', '52+7', '49+1', '51+2', '57+5', '55-3', '43-7', '54-2', '48+1', '45+1', '49+5', '52+1', '39-6', '54+3'])\n",
      "('Long passing', ['80+1', '70+3', '72+2', '81+1', '70+1', '76+1', '82-1', '65+10', '55+24', '77+1', '73-1', '74+2', '61+1', '75-2', '76-1', '74+6', '62+13', '62+4', '72+4', '55-2', '66+6', '71+3', '52+10', '60-2', '62+2', '56-10', '70-2', '53-3', '65+6', '66+2', '70-1', '66+1', '53+3', '61+2', '59-1', '56-2', '74+4', '65+4', '67+5', '71+1', '74-5', '65-2', '61-1', '67+1', '65+1', '44+5', '54+5', '65+3', '59+8', '47+3', '67-1', '53-2', '57+6', '64-3', '75+1', '57+1', '52+3', '60-1', '69+2', '47+4', '43+3', '67+4', '62+1', '65+2', '55-3', '58+4', '57+2', '65+8', '57+21', '54+10', '44+4', '47-4', '48+8', '64+2', '57-1', '56+2', '46-6', '63-3', '45-10', '55+11', '51-3', '51+2', '38+3', '60-3', '40+12', '48+2', '61+4', '50+6', '38+1', '26+16', '26+4', '58+2', '34-1', '62+20', '49-5', '49-1', '38+6', '36+1', '48+10', '59+6', '34+10', '30+6', '25+4'])\n",
      "('Standing tackle', ['82-1', '72-5', '83-1', '34+8', '76-2', '80-2', '69+3', '80+2', '64+35', '76+2', '46+10', '72+1', '71+2', '39+5', '77+3', '75-2', '75+1', '73+2', '35+6', '71-1', '74+1', '66-3', '72-1', '76+3', '41+10', '70+3', '73+1', '34-5', '68-1', '67-1', '59+2', '69-2', '40+10', '70-1', '65+3', '71-2', '72-4', '67+2', '66-2', '71+1', '60-3', '66+3', '44+10', '64-1', '72-2', '63+4', '73-2', '60+5', '17+2', '27+4', '65-2', '37-3', '67+1', '67-2', '58+10', '69-3', '70+1', '49+4', '69-1', '64+1', '69+4', '67+4', '66+4', '63+1', '51-9', '65+1', '68+1', '68+2', '62+1', '60+2', '62+2', '48+4', '45+2', '68+15', '65-3', '63-2', '63+2', '57-4', '63-1', '13-2', '61-1', '60-2', '37+10', '20-1', '30-2', '64+2', '59+7', '60+1', '55+2', '33+2', '73+5', '26-1', '52+4', '57+1', '54+7', '60+4', '54+4', '58+2', '47+1'])\n",
      "('Dribbling', ['78+3', '87+1', '84+1', '68+3', '77+1', '80+1', '76+1', '76-2', '74+2', '71-3', '73+2', '71+2', '77+3', '74+4', '76-1', '75-2', '75+1', '72+4', '73-2', '69-5', '72-1', '72+3', '72+2', '74+1', '70+1', '74-1', '78-1', '67-1', '72+1', '38+2', '66-2', '59-2', '64-1', '71+4', '67+2', '56+1', '73+1', '60-1', '66-1', '68+1', '79+1', '66+2', '67+1', '48+15', '69-1', '71+1', '58+4', '42+2', '72-2', '64+3', '63-2', '65+1', '68+2', '36+2', '66+1', '64+1', '66+4', '65-2', '59+10', '63-1', '60-2', '54+8', '62-2', '66+3', '65-1', '57-1', '54-4', '54+10', '62-1', '65+2', '55-2', '59+5', '60+5', '34+3', '58-10', '64+4', '54+1', '49+1', '64-2', '47-2', '65+3', '63+2', '35+7', '49+3', '52+4', '37-1', '58-1', '59-1', '37+7', '31+2', '47+4', '62+5', '50+6', '53+2', '11+6', '36+4', '55-1', '59+1', '41+1', '53+1', '43-1'])\n",
      "('Ball control', ['83+2', '77+1', '79+1', '85+1', '80+1', '70+1', '76+1', '82+6', '68+6', '74+1', '66+1', '74+5', '63-3', '75-2', '71-2', '74+3', '72-2', '74+2', '59-3', '70-1', '71-1', '68+1', '75+1', '38+3', '67+2', '48+3', '56-2', '70-3', '72+3', '62+2', '61-2', '67+1', '64+1', '72-1', '72-3', '56+2', '55-2', '72+2', '66-1', '63-1', '71+2', '63+1', '58-2', '65-1', '65+5', '59-2', '62-1', '66+3', '67-1', '68+4', '55-4', '71+1', '63+3', '61-3', '63-2', '65+2', '60-1', '61+2', '66+2', '68-1', '67+3', '72+1', '60+2', '69+1', '65+1', '67+6', '61-1', '56+14', '48+5', '50+4', '60-4', '61+4', '60-2', '58+1', '61+1', '57+1', '43+6', '51+2', '64+3', '55+2', '50+2', '58+4', '39-1', '60+5', '64+4', '64-1', '43+7', '48+1', '56+5', '47+6', '30+19', '41+11', '40+1', '48+4', '14-2', '38+1'])\n",
      "('Short passing', ['79+2', '73+3', '84+1', '82+1', '78+2', '80+1', '81+3', '67-5', '76+3', '67+1', '78+1', '75+1', '72-2', '77-2', '77-1', '68-2', '65+2', '59-6', '74-2', '71+1', '66+1', '69-3', '79-1', '68+1', '67+6', '58+1', '64-2', '70+1', '74+3', '74+2', '55-10', '70-2', '67+7', '67-1', '72+2', '56-1', '64+4', '73+1', '72+3', '69+4', '65+5', '64-1', '73+2', '63-1', '69+1', '66+4', '67+2', '61+4', '62+1', '70-3', '73+4', '67-2', '66+2', '68-1', '64+3', '65+6', '57+1', '60-3', '67+3', '63+2', '54+5', '75+4', '66-1', '65-1', '59-2', '54-1', '65+1', '59+4', '69-1', '61+6', '62-2', '70+3', '62-5', '64+1', '63+4', '74+5', '67+13', '69+3', '62+4', '62+2', '63-2', '63+3', '60+13', '68+15', '60+6', '66-3', '65+9', '60+4', '68+2', '54+1', '61+3', '45+4', '64+2', '58-2', '54+6', '65-3', '50-10', '59+8', '62+7', '54-2', '60+1', '49+1', '46+10', '54+2', '53+6', '49+4', '18+11', '42+1', '37-1', '58+12', '61+2', '52-6', '62-1', '45+5', '60+3', '58+8', '58+4', '40+10', '44+3', '38+8', '46+1', '33+3', '38+1', '56+1', '31+3', '42-2'])\n",
      "('Club', ['Real Madrid CF', 'FC Barcelona', 'Paris Saint-Germain', 'FC Bayern Munich', 'Manchester United', 'Chelsea', 'Juventus', 'Manchester City', 'Arsenal', 'Atlético Madrid', 'Borussia Dortmund', 'Milan', 'Tottenham Hotspur', 'Napoli', 'Inter', 'Liverpool', 'Roma', 'Beşiktaş JK', 'AS Monaco', 'Bayer 04 Leverkusen', 'AS Saint-Étienne', 'Athletic Club de Bilbao', '1. FC Köln', 'Villarreal CF', 'FC Schalke 04', 'Olympique de Marseille', 'Atalanta', 'RB Leipzig', 'Real Sociedad', 'Torino', 'Sporting CP', 'Leicester City', 'Southampton', 'FC Porto', 'UD Las Palmas', 'Olympique Lyonnais', 'Lazio', 'Genoa', 'Everton', 'RC Celta de Vigo', 'Valencia CF', nan, 'Sevilla FC', 'Toronto FC', 'Borussia Mönchengladbach', 'SL Benfica', 'RCD Espanyol', 'OGC Nice', 'Spartak Moscow', 'Swansea City', 'Sassuolo', 'TSG 1899 Hoffenheim', 'Stoke City', 'Shakhtar Donetsk', 'West Ham United', 'SV Werder Bremen', 'Watford', 'Galatasaray SK', 'Lokomotiv Moscow', 'Zenit St. Petersburg', 'Bournemouth', 'Sampdoria', 'Antalyaspor', 'Girondins de Bordeaux', 'VfL Wolfsburg', 'New York City Football Club', 'Hertha BSC Berlin', 'SD Eibar', 'Ajax', 'RC Deportivo de La Coruña', 'Crystal Palace', 'West Bromwich Albion', 'CSKA Moscow', 'Eintracht Frankfurt', 'Real Betis Balompié', 'Fenerbahçe SK', 'Fiorentina', 'Burnley', 'Tigres U.A.N.L.', 'San Lorenzo de Almagro', 'Chicago Fire Soccer Club', 'Feyenoord', 'FC Krasnodar', 'Angers SCO', 'U.N.A.M.', 'Montreal Impact', 'Chievo Verona', 'LA Galaxy', 'Vissel Kobe', 'Bologna', 'LOSC Lille', 'Orlando City Soccer Club', 'Atlanta United FC', 'Independiente', 'Club Atlético Lanús', 'RSC Anderlecht', 'İstanbul Başakşehir FK', 'Hannover 96', 'Newcastle United', 'Málaga CF', 'Trabzonspor', 'PSV', 'FC Augsburg', 'Club Tijuana', 'VfB Stuttgart', 'Hamburger SV', 'CD Leganés', 'Getafe CF', 'Deportivo Alavés', 'Portland Timbers', 'Kayserispor', 'Udinese', 'Standard de Liège', 'Alanyaspor', '1. FSV Mainz 05', 'Sparta Praha', 'FC Nantes', 'Al Ahli', 'SC Braga', 'Brighton & Hove Albion', 'Levante UD', 'Boca Juniors', 'Columbus Crew SC', 'Querétaro', 'Dijon FCO', 'Olympiakos CFP', 'KRC Genk', 'FC Basel', 'Club América', 'Montpellier Hérault SC', 'Monterrey', 'Seattle Sounders FC', 'River Plate', 'CPD Junior Barranquilla', 'Racing Club de Avellaneda', 'En Avant de Guingamp', 'Rangers', 'Colorado Rapids', 'Necaxa', 'Aston Villa', 'KV Oostende', 'Akhisar Belediyespor', 'Rubin Kazan', 'Rosario Central', 'Ferrara (SPAL)', 'Wolverhampton Wanderers', 'Stade Rennais FC', 'Pachuca', 'Granada CF', 'Colo-Colo', 'KAA Gent', 'Middlesbrough', 'Toulouse FC', 'BSC Young Boys', 'FC St. Gallen', 'Santos Futebol Clube', 'Cagliari', 'Rio Ave FC', 'Norwich City', 'Grêmio Foot-Ball Porto Alegrense', 'Estudiantes de La Plata', 'Cruzeiro', 'Universidad de Chile', 'Atletico Nacional Medellin', 'FC Ufa', 'Girona CF', 'SM Caen', 'Independiente Medellín', 'Djurgårdens IF', 'Vitória Guimarães', 'São Paulo Futebol Clube', 'Royal Antwerp FC', 'Kaizer Chiefs', 'Fulham', 'Sunderland', 'Huddersfield Town', 'PAOK Thessaloniki', 'Fluminense Football Club', 'Leeds United', 'Derby County', 'AC Ajaccio', 'Club León', 'Sociedade Esportiva Palmeiras', 'Hellas Verona', 'Rayo Vallecano', 'Club Brugge KV', 'Real Sporting de Gijón', 'Celtic', 'Hull City', 'Universidad Católica', \"CD O'Higgins\", 'Club Atlas', 'SC Freiburg', 'Melbourne City', 'Grupo Desportivo de Chaves', 'Al Hilal', 'CA Osasuna', 'Perth Glory', 'Panathinaikos FC', 'FC Utrecht', 'Club Atlético Huracán', 'Birmingham City', 'Botafogo de Futebol e Regatas', 'Deportivo Toluca', 'Amiens SC Football', 'Clube Atlético Paranaense', 'Göztepe', 'FC Groningen', 'FC Ingolstadt 04', 'New England Revolution', 'FC Red Bull Salzburg', 'Clube Atlético Mineiro', 'Crotone', 'Banfield', 'Grasshopper Club Zürich', 'Vitesse', 'AZ Alkmaar', 'SV Darmstadt 98', 'Avaí Futebol Clube', 'Coritiba Foot Ball Club', 'Legia Warszawa', 'RC Strasbourg', 'Brescia', 'Vancouver Whitecaps FC', 'Western Sydney Wanderers', 'Guadalajara', 'Cerezo Osaka', 'CS Marítimo', 'Osmanlıspor', 'Santos Laguna', 'Dinamo Moscow', 'Monarcas Morelia', 'Frosinone', 'Cruz Azul', 'Real Zaragoza', 'Deportes Iquique', 'Sydney FC', 'Brisbane Roar', 'AEK Athens', 'Colon de Santa Fe', 'Atiker Konyaspor', 'Unión Española', 'Reading', 'Asociacion Deportivo Cali', 'Palermo', 'FC Metz', 'Sporting Kansas City', 'FC Seoul', 'Bursaspor', 'Benevento Calcio', 'FC Rostov', 'Associação Atlética Ponte Preta', 'Al Nassr', 'San Jose Earthquakes', 'Nîmes Olympique', 'Al Ittihad', 'Godoy Cruz', 'Gimnàstic de Tarragona', 'Philadelphia Union', 'Sport Club do Recife', 'CD Universidad de Concepción', 'FC Paços de Ferreira', 'New York Red Bulls', 'Club Atlético Tigre', 'FC Lorient', 'Belgrano de Córdoba', 'Sheffield Wednesday', 'CD Tenerife', 'SC Heerenveen', 'Independiente Santa Fe', 'Puebla', 'Vitória Setúbal', 'FC København', 'Kalmar FF', 'CD Aves', \"Newell's Old Boys\", 'Terek Grozny', '1. FC Union Berlin', 'Real Valladolid', 'ADO Den Haag', 'Santiago Wanderers', 'Bari', 'Ulsan Hyundai Horang-i', '1. FC Heidenheim', 'Argentinos Juniors', 'Brentford', 'Gençlerbirliği SK', 'FC St. Pauli', 'Melbourne Victory', 'VfL Bochum', 'Córdoba CF', 'Atlético Clube Goianiense', 'Kardemir Karabükspor', 'AJ Auxerre', 'Real Oviedo', 'Vitória ', 'Arsenal Tula', 'RC Lens', 'CF Os Belenenses', 'SK Rapid Wien', 'Everton de Viña del Mar', 'CD Los Millionarios Bogota', 'GwangJu FC', 'Sangju Sangmu FC', 'Jeonbuk Hyundai Motors', 'FC Dallas', 'ES Troyes AC', 'F.B.C. Unione Venezia', 'Al Qadisiyah', 'Fortuna Düsseldorf', 'Boavista FC', 'D.C. United', 'Medicana Sivasspor', 'CD Once Caldas Manizales', 'FC Ural', 'Kashiwa Reysol', 'Malmö FF', 'Cádiz C.F.', 'Portimonense SC', 'Urawa Red Diamonds', 'UD Almería', 'AIK Solna', 'CD Huachipato', 'Estoril Praia', '1. FC Nürnberg', 'Pescara', 'Stade de Reims', 'Moreirense FC', 'Empoli', 'Orlando Pirates', 'FC Anzhi Makhachkala', 'Heracles Almelo', 'Eintracht Braunschweig', 'Cremonese', 'CD Antofagasta', 'AS Nancy Lorraine', 'Lobos de la BUAP', 'Suwon Samsung Bluewings', 'Defensa y Justicia', 'Ipswich Town', 'Rosenborg BK', 'KAS Eupen', 'FC Sion', 'Adelaide United', 'Real Salt Lake', 'FC Midtjylland', 'Minnesota Thunder', 'AD Alcorcón', 'Al Faisaly', 'FC Tosno', 'FC Twente', 'F.C. Tokyo', 'IF Elfsborg', 'Carpi', 'Parma', 'IFK Norrköping', 'Unión de Santa Fe', 'Corporación Club Deportivo Tuluá', 'Kawasaki Frontale', 'Associação Chapecoense de Futebol', '1. FC Kaiserslautern', 'Preston North End', 'Molde FK', 'Bristol City', 'Brøndby IF', 'Albacete Balompié', 'GFC Ajaccio', 'KV Kortrijk', 'Kashima Antlers', 'CD Feirense', 'Oxford United', 'Talleres de Cordoba', 'FC Lugano', 'SV Zulte-Waregem', 'Deportes Tolima', 'Amkar Perm', 'Kasimpaşa SK', 'Gimnasia y Esgrima La Plata', 'Queens Park Rangers', 'Shimizu S-Pulse', 'Aalborg BK', 'Águilas Doradas', 'FC Lausanne-Sports', 'Tiburones Rojos de Veracruz', 'Perugia', 'La Spezia', 'Pohang Steelers', 'FC Barcelona B', 'Evkur Yeni Malatyaspor', 'Willem II', 'Novara', 'Sporting Charleroi', 'FK Austria Wien', 'Gamba Osaka', 'DSC Arminia Bielefeld', 'Nottingham Forest', 'Salernitana', 'Vercelli', 'Śląsk Wrocław', 'Sagan Tosu', 'CD Numancia', 'Strømsgodset IF', 'Yokohama F. Marinos', 'Cardiff City', 'FC Sochaux-Montbéliard', 'Jeju United FC', 'Lechia Gdańsk', 'Piast Gliwice', 'SD Huesca', 'FC Zürich', 'Heart of Midlothian', 'Atlético Tucumán', 'BK Häcken', 'Audax Italiano', 'Club de Deportes Temuco', 'San Luis de Quillota', 'Al Taawoun', 'Lech Poznań', 'FC Luzern', 'Cesena', 'Chacarita Juniors', 'Aberdeen', 'Excelsior', 'SpVgg Greuther Fürth', 'San Martín de San Juan', 'Wisła Kraków', 'Hammarby IF', 'Virtus Entella', 'Vegalta Sendai', 'Alianza Petrolera', 'CD Palestino', 'KV Mechelen', 'Central Coast Mariners', 'La Equidad', 'Avellino', 'Omiya Ardija', 'Cracovia', 'Curicó Unido', 'CF Reus Deportiu', 'SK Brann', 'C.D. Leonesa S.A.D.', 'US Quevilly-Rouen', 'Sporting Lokeren', 'Houston Dynamo', 'Termalica Bruk-Bet Nieciecza', 'Tondela', 'SV Sandhausen', 'Al Fayha', 'Jeonnam Dragons', 'Sandefjord Fotball', 'Pogoń Szczecin', 'Östersunds FK', 'Burton Albion', 'Al Raed', 'Jagiellonia Białystok', 'Bahía Blanca', 'Ventforet Kofu', 'Stade Brestois 29', 'CD Lugo', 'Korona Kielce', 'PEC Zwolle', 'MSV Duisburg', 'AFC Eskilstuna', 'Waasland-Beveren', 'Club Atlético Patronato', 'La Berrichonne de Châteauroux', 'SK Sturm Graz', 'Royal Excel Mouscron', 'Júbilo Iwata', 'SønderjyskE', 'Al Shabab', 'US Orléans Loiret Football', 'Bourg en Bresse Péronnas 01', 'FC Nordsjælland', 'FC Thun', 'CD America de Cali', 'VVV-Venlo', 'Charlton Athletic', 'Sevilla Atlético', 'Ternana', 'Gangwon FC', 'IFK Göteborg', 'Odense Boldklub', 'Arsenal de Sarandí', 'SG Dynamo Dresden', 'Bolton Wanderers', 'Plymouth Argyle', 'Southend United', 'Vélez Sarsfield', 'Daegu FC', 'Sanfrecce Hiroshima', 'Odds BK', 'Aarhus GF', 'Blackburn Rovers', 'Lyngby BK', 'FC Erzgebirge Aue', 'Sint-Truidense VV', 'Karlsruher SC', 'Jaguares Fútbol Club', 'Sarpsborg 08 FF', 'Temperley', ' SSV Jahn Regensburg', 'Patriotas Boyacá FC', 'Barnsley', 'Sandecja Nowy Sącz', 'Górnik Zabrze', 'VfL Osnabrück', 'Valenciennes FC', 'Tours FC', 'Lorca Deportiva CF', 'Albirex Niigata', 'Cittadella', 'Aalesunds FK', 'Deportivo Pasto', 'Roda JC Kerkrade', 'Motherwell', 'Holstein Kiel', 'Scunthorpe United', 'Atlético Huila', 'Wisła Płock', 'Atlético Bucaramanga', 'Sparta Rotterdam', 'Stabæk Fotball', 'Würzburger FV', 'VfR Aalen', 'Clermont Foot 63', 'Randers FC', 'Vålerenga Fotball', 'Incheon United FC', 'Hibernian', 'SCR Altach', 'Sheffield United', 'Le Havre AC', 'Walsall', 'Chamois Niortais FC', 'Sportfreunde Lotte', 'Millwall', 'SpVgg Unterhaching', 'FC SKA-Energiya Khabarovsk', 'Hansa Rostock', 'Wellington Phoenix', 'Hobro IK', 'Wigan Athletic', 'Peterborough United', 'Chemnitzer FC', 'Grimsby Town', 'Ascoli', 'Al Fateh', 'Foggia', 'Bristol Rovers', '1. FC Magdeburg', 'SG Sonnenhof Großaspach', 'Bury', 'Lillestrøm SK', 'Arka Gdynia', 'Ross County FC', 'Paris FC', 'Bradford City', 'Hamilton Academical FC', 'Luton Town', 'NAC Breda', 'Portsmouth', 'Zagłębie Lubin', 'Kilmarnock', 'Hokkaido Consadole Sapporo', 'Örebro SK', 'SV Wehen Wiesbaden', 'Coventry City', 'Milton Keynes Dons', 'Rochdale', 'FK Haugesund', 'Dundee FC', 'Oldham Athletic', 'Ohod Club', 'Rotherham United', 'HJK Helsinki', 'LASK Linz', 'AC Horsens', 'SC Fortuna Köln', 'St. Johnstone FC', 'Sogndal', 'Envigado FC', 'Blackpool', 'SC Preußen Münster', 'Hallescher FC', 'Ettifaq FC', 'Crawley Town', 'Exeter City', 'AFC Wimbledon', 'Doncaster Rovers', 'IK Sirius', 'Jönköpings Södra IF', 'Rot-Weiß Erfurt', 'Notts County', 'SV Mattersburg', 'Viking FK', 'Cambridge United', 'Tigres FC', 'Mansfield Town', 'SV Meppen', 'Tromsø IL', 'Swindon Town', 'Werder Bremen II', 'FC Admira Wacker Mödling', 'SC Paderborn 07', 'Partick Thistle F.C.', 'Silkeborg IF', 'Al Batin', 'Colchester United', 'FSV Zwickau', 'Crewe Alexandra', 'Northampton Town', 'Kristiansund BK', 'Lincoln City', 'Dundalk', 'Wycombe Wanderers', 'Yeovil Town', 'GIF Sundsvall', 'FC Carl Zeiss Jena', \"St. Patrick's Athletic\", 'Fleetwood Town', 'Wolfsberger AC', 'Cork City', 'Gillingham', 'SKN St. Pölten', 'Carlisle United', 'Chesterfield', 'Newcastle Jets', 'Morecambe', 'Port Vale', 'Newport County', 'Shrewsbury', 'Accrington Stanley', 'Forest Green', 'Bohemian FC', 'Cheltenham Town', 'Barnet', 'Halmstads BK', 'Shamrock Rovers', 'Derry City', 'Stevenage', 'Finn Harps', 'FC Helsingør', 'Sligo Rovers', 'Bray Wanderers', 'Limerick FC', 'Galway United', 'Drogheda United'])\n"
     ]
    },
    {
     "name": "stderr",
     "output_type": "stream",
     "text": [
      "Teknisk Tirsdag - Data Cleaning.ipynb:4: SettingWithCopyWarning: \n",
      "A value is trying to be set on a copy of a slice from a DataFrame.\n",
      "Try using .loc[row_indexer,col_indexer] = value instead\n",
      "\n",
      "See the caveats in the documentation: http://pandas.pydata.org/pandas-docs/stable/indexing.html#indexing-view-versus-copy\n",
      "  \"cell_type\": \"markdown\",\n",
      "Teknisk Tirsdag - Data Cleaning.ipynb:1: SettingWithCopyWarning: \n",
      "A value is trying to be set on a copy of a slice from a DataFrame.\n",
      "Try using .loc[row_indexer,col_indexer] = value instead\n",
      "\n",
      "See the caveats in the documentation: http://pandas.pydata.org/pandas-docs/stable/indexing.html#indexing-view-versus-copy\n",
      "  {\n",
      "Teknisk Tirsdag - Data Cleaning.ipynb:2: SettingWithCopyWarning: \n",
      "A value is trying to be set on a copy of a slice from a DataFrame.\n",
      "Try using .loc[row_indexer,col_indexer] = value instead\n",
      "\n",
      "See the caveats in the documentation: http://pandas.pydata.org/pandas-docs/stable/indexing.html#indexing-view-versus-copy\n",
      "  \"cells\": [\n"
     ]
    },
    {
     "name": "stdout",
     "output_type": "stream",
     "text": [
      "Variablenavn: Name                 Variabletype: object\n",
      "Variablenavn: Age                  Variabletype: int64\n",
      "Variablenavn: Nationality          Variabletype: object\n",
      "Variablenavn: Overall              Variabletype: int64\n",
      "Variablenavn: Potential            Variabletype: int64\n",
      "Variablenavn: Club                 Variabletype: object\n",
      "Variablenavn: Value                Variabletype: float64\n",
      "Variablenavn: Wage                 Variabletype: float64\n",
      "Variablenavn: Special              Variabletype: int64\n",
      "Variablenavn: Acceleration         Variabletype: float64\n",
      "Variablenavn: Aggression           Variabletype: float64\n",
      "Variablenavn: Agility              Variabletype: float64\n",
      "Variablenavn: Balance              Variabletype: float64\n",
      "Variablenavn: Ball control         Variabletype: float64\n",
      "Variablenavn: Composure            Variabletype: float64\n",
      "Variablenavn: Crossing             Variabletype: float64\n",
      "Variablenavn: Curve                Variabletype: float64\n",
      "Variablenavn: Dribbling            Variabletype: float64\n",
      "Variablenavn: Finishing            Variabletype: float64\n",
      "Variablenavn: Free kick accuracy   Variabletype: float64\n",
      "Variablenavn: GK diving            Variabletype: float64\n",
      "Variablenavn: GK handling          Variabletype: float64\n",
      "Variablenavn: GK kicking           Variabletype: float64\n",
      "Variablenavn: GK positioning       Variabletype: float64\n",
      "Variablenavn: GK reflexes          Variabletype: float64\n",
      "Variablenavn: Heading accuracy     Variabletype: float64\n",
      "Variablenavn: Interceptions        Variabletype: float64\n",
      "Variablenavn: Jumping              Variabletype: float64\n",
      "Variablenavn: Long passing         Variabletype: float64\n",
      "Variablenavn: Long shots           Variabletype: float64\n",
      "Variablenavn: Marking              Variabletype: float64\n",
      "Variablenavn: Penalties            Variabletype: float64\n",
      "Variablenavn: Positioning          Variabletype: float64\n",
      "Variablenavn: Reactions            Variabletype: float64\n",
      "Variablenavn: Short passing        Variabletype: float64\n",
      "Variablenavn: Shot power           Variabletype: float64\n",
      "Variablenavn: Sliding tackle       Variabletype: float64\n",
      "Variablenavn: Sprint speed         Variabletype: float64\n",
      "Variablenavn: Stamina              Variabletype: float64\n",
      "Variablenavn: Standing tackle      Variabletype: float64\n",
      "Variablenavn: Strength             Variabletype: float64\n",
      "Variablenavn: Vision               Variabletype: float64\n",
      "Variablenavn: Volleys              Variabletype: float64\n",
      "Variablenavn: CAM                  Variabletype: float64\n",
      "Variablenavn: CB                   Variabletype: float64\n",
      "Variablenavn: CDM                  Variabletype: float64\n",
      "Variablenavn: CF                   Variabletype: float64\n",
      "Variablenavn: CM                   Variabletype: float64\n",
      "Variablenavn: ID                   Variabletype: int64\n",
      "Variablenavn: LAM                  Variabletype: float64\n",
      "Variablenavn: LB                   Variabletype: float64\n",
      "Variablenavn: LCB                  Variabletype: float64\n",
      "Variablenavn: LCM                  Variabletype: float64\n",
      "Variablenavn: LDM                  Variabletype: float64\n",
      "Variablenavn: LF                   Variabletype: float64\n",
      "Variablenavn: LM                   Variabletype: float64\n",
      "Variablenavn: LS                   Variabletype: float64\n",
      "Variablenavn: LW                   Variabletype: float64\n",
      "Variablenavn: LWB                  Variabletype: float64\n",
      "Variablenavn: Preferred Positions  Variabletype: object\n",
      "Variablenavn: RAM                  Variabletype: float64\n",
      "Variablenavn: RB                   Variabletype: float64\n",
      "Variablenavn: RCB                  Variabletype: float64\n",
      "Variablenavn: RCM                  Variabletype: float64\n",
      "Variablenavn: RDM                  Variabletype: float64\n",
      "Variablenavn: RF                   Variabletype: float64\n",
      "Variablenavn: RM                   Variabletype: float64\n",
      "Variablenavn: RS                   Variabletype: float64\n",
      "Variablenavn: RW                   Variabletype: float64\n",
      "Variablenavn: RWB                  Variabletype: float64\n",
      "Variablenavn: ST                   Variabletype: float64\n"
     ]
    },
    {
     "data": {
      "image/png": "[encoded data removed]",
      "text/plain": [
       "<matplotlib.figure.Figure at 0x7f34873800f0>"
      ]
     },
     "metadata": {},
     "output_type": "display_data"
    },
    {
     "name": "stdout",
     "output_type": "stream",
     "text": [
      "Træningsæt størrelse: 1272\n"
     ]
    }
   ],
   "source": [
    "# Run the datacleaning notebook to get all the variables\n",
    "%run 'Teknisk Tirsdag - Data Cleaning.ipynb'"
   ]
  },
  {
   "cell_type": "markdown",
   "metadata": {},
   "source": [
    "Efter at have hentet vores rensede data, hvor vi minder os selv om, at vi har: <br>\n",
    "* dansker_set\n",
    "* topklub_set\n",
    "* ikke_topklub_set\n",
    "* overall_set "
   ]
  },
  {
   "cell_type": "markdown",
   "metadata": {},
   "source": [
    "Først er vil vi gerne kigge lidt på, om vi var grundige nok i vores foranalyse. Derfor laver vi et heatmap, der skal fortælle os noget om vores kolonner i forhold til hinanden."
   ]
  },
  {
   "cell_type": "code",
   "execution_count": 2,
   "metadata": {},
   "outputs": [
    {
     "data": {
      "image/png": "[encoded data removed]",
      "text/plain": [
       "<matplotlib.figure.Figure at 0x7f34ae0c9828>"
      ]
     },
     "metadata": {},
     "output_type": "display_data"
    }
   ],
   "source": [
    "corr = overall_set.corr()\n",
    "\n",
    "fig = plt.figure(figsize=(20,16))\n",
    "\n",
    "ax = sb.heatmap(corr, \n",
    "                 xticklabels=corr.columns.values,\n",
    "                 yticklabels=corr.columns.values,\n",
    "                 linewidths=0.25,\n",
    "                 vmax=1.0, \n",
    "                 square=True, \n",
    "                 linecolor='black', \n",
    "                 annot=False\n",
    "                )\n",
    "plt.show()"
   ]
  },
  {
   "cell_type": "markdown",
   "metadata": {},
   "source": [
    "Hvad vi ser her, er en korrelationsmatrix. Jo varmere farver, des mere korrelation. <br>\n",
    "Vi ser altså at der er meget korrelation i vores nedre højre hjørne. Dette er spilpositionerne. Vi ser også et stort blåt kryds, som her er målmandsdata. Disse har meget lidt korrelation med resten af vores datasæt. (Dobbelt klik evt. på plottet, hvis det er meget svært at læse teksten)<br>\n",
    "Derudover kan vi se, at ID kolonnen slet ikke korrelere. Man kan derfor vælge at tage den ud."
   ]
  },
  {
   "cell_type": "markdown",
   "metadata": {},
   "source": [
    "Vi tilføjer nu vores \"kendte\" labels til vores data. (Hvis man spiller for en af vores topklubber, får man et 1-tal, og ellers får man et 0) <br>\n",
    "Vi dele også vores træningssæt op i en *X* matrix med alle vores numeriske features, og en *y* vektor med alle vores labels."
   ]
  },
  {
   "cell_type": "code",
   "execution_count": 3,
   "metadata": {
    "collapsed": true
   },
   "outputs": [],
   "source": [
    "overall_set['label'] = overall_set['Club'].isin(topklub_set.Club).astype(int)\n",
    "y = overall_set['label']\n",
    "X = overall_set.iloc[:,0:-1].select_dtypes(include=['float64', 'int64'])"
   ]
  },
  {
   "cell_type": "markdown",
   "metadata": {},
   "source": [
    "Vi kan kigge lidt overordnet på tallene mellem de 2 klasser"
   ]
  },
  {
   "cell_type": "code",
   "execution_count": 4,
   "metadata": {},
   "outputs": [
    {
     "data": {
      "text/html": [
       "<div>\n",
       "<table border=\"1\" class=\"dataframe\">\n",
       "  <thead>\n",
       "    <tr style=\"text-align: right;\">\n",
       "      <th></th>\n",
       "      <th>Age</th>\n",
       "      <th>Overall</th>\n",
       "      <th>Potential</th>\n",
       "      <th>Value</th>\n",
       "      <th>Wage</th>\n",
       "      <th>Special</th>\n",
       "      <th>Acceleration</th>\n",
       "      <th>Aggression</th>\n",
       "      <th>Agility</th>\n",
       "      <th>Balance</th>\n",
       "      <th>...</th>\n",
       "      <th>RB</th>\n",
       "      <th>RCB</th>\n",
       "      <th>RCM</th>\n",
       "      <th>RDM</th>\n",
       "      <th>RF</th>\n",
       "      <th>RM</th>\n",
       "      <th>RS</th>\n",
       "      <th>RW</th>\n",
       "      <th>RWB</th>\n",
       "      <th>ST</th>\n",
       "    </tr>\n",
       "    <tr>\n",
       "      <th>label</th>\n",
       "      <th></th>\n",
       "      <th></th>\n",
       "      <th></th>\n",
       "      <th></th>\n",
       "      <th></th>\n",
       "      <th></th>\n",
       "      <th></th>\n",
       "      <th></th>\n",
       "      <th></th>\n",
       "      <th></th>\n",
       "      <th></th>\n",
       "      <th></th>\n",
       "      <th></th>\n",
       "      <th></th>\n",
       "      <th></th>\n",
       "      <th></th>\n",
       "      <th></th>\n",
       "      <th></th>\n",
       "      <th></th>\n",
       "      <th></th>\n",
       "      <th></th>\n",
       "    </tr>\n",
       "  </thead>\n",
       "  <tbody>\n",
       "    <tr>\n",
       "      <th>0</th>\n",
       "      <td>25.212264</td>\n",
       "      <td>66.037736</td>\n",
       "      <td>71.042453</td>\n",
       "      <td>1.848137e+06</td>\n",
       "      <td>9393.081761</td>\n",
       "      <td>1579.055031</td>\n",
       "      <td>63.639937</td>\n",
       "      <td>54.816038</td>\n",
       "      <td>62.603774</td>\n",
       "      <td>63.509434</td>\n",
       "      <td>...</td>\n",
       "      <td>49.641509</td>\n",
       "      <td>48.553459</td>\n",
       "      <td>50.836478</td>\n",
       "      <td>49.632075</td>\n",
       "      <td>51.089623</td>\n",
       "      <td>52.004717</td>\n",
       "      <td>50.356918</td>\n",
       "      <td>51.333333</td>\n",
       "      <td>50.194969</td>\n",
       "      <td>50.356918</td>\n",
       "    </tr>\n",
       "    <tr>\n",
       "      <th>1</th>\n",
       "      <td>25.166667</td>\n",
       "      <td>77.099057</td>\n",
       "      <td>81.856918</td>\n",
       "      <td>1.630118e+07</td>\n",
       "      <td>71496.855346</td>\n",
       "      <td>1817.268868</td>\n",
       "      <td>69.382075</td>\n",
       "      <td>62.413522</td>\n",
       "      <td>68.784591</td>\n",
       "      <td>66.122642</td>\n",
       "      <td>...</td>\n",
       "      <td>58.400943</td>\n",
       "      <td>56.378931</td>\n",
       "      <td>61.515723</td>\n",
       "      <td>58.900943</td>\n",
       "      <td>61.589623</td>\n",
       "      <td>62.281447</td>\n",
       "      <td>60.044025</td>\n",
       "      <td>61.707547</td>\n",
       "      <td>59.371069</td>\n",
       "      <td>60.044025</td>\n",
       "    </tr>\n",
       "  </tbody>\n",
       "</table>\n",
       "<p>2 rows × 67 columns</p>\n",
       "</div>"
      ],
      "text/plain": [
       "             Age    Overall  Potential         Value          Wage  \\\n",
       "label                                                                \n",
       "0      25.212264  66.037736  71.042453  1.848137e+06   9393.081761   \n",
       "1      25.166667  77.099057  81.856918  1.630118e+07  71496.855346   \n",
       "\n",
       "           Special  Acceleration  Aggression    Agility    Balance    ...      \\\n",
       "label                                                                 ...       \n",
       "0      1579.055031     63.639937   54.816038  62.603774  63.509434    ...       \n",
       "1      1817.268868     69.382075   62.413522  68.784591  66.122642    ...       \n",
       "\n",
       "              RB        RCB        RCM        RDM         RF         RM  \\\n",
       "label                                                                     \n",
       "0      49.641509  48.553459  50.836478  49.632075  51.089623  52.004717   \n",
       "1      58.400943  56.378931  61.515723  58.900943  61.589623  62.281447   \n",
       "\n",
       "              RS         RW        RWB         ST  \n",
       "label                                              \n",
       "0      50.356918  51.333333  50.194969  50.356918  \n",
       "1      60.044025  61.707547  59.371069  60.044025  \n",
       "\n",
       "[2 rows x 67 columns]"
      ]
     },
     "execution_count": 4,
     "metadata": {},
     "output_type": "execute_result"
    }
   ],
   "source": [
    "overall_set.groupby('label').mean()"
   ]
  },
  {
   "cell_type": "markdown",
   "metadata": {},
   "source": [
    "### Observationer\n",
    "* Alderen siger ikke rigtig noget om, hvorvidt du spiller for en topklub eller ej\n",
    "* Topklub spillere er en faktor 10 mere værd end ikke-topklub spillere\n",
    "* Topklub spillere er generelt ca. 10+ på alt i forhold til ikke-topklub spillere"
   ]
  },
  {
   "cell_type": "markdown",
   "metadata": {
    "variables": {
     "y.where(y==0).count()": "636",
     "y.where(y==1).count()": "636"
    }
   },
   "source": [
    "Vi er nu klar til at gå i gang med vores første Machine Learning algoritme.\n",
    "Vi ved på forhånd, at der i vores træningssæt er {{y.where(y==1).count()}} der spiller i topklubber, og {{y.where(y==0).count()}} der ikke gør. <br>\n",
    "Der er en 50/50 chance for at ramme rigtigt, hvis man bare gætte tilfældigt. Vi håber derfor, at algoritmen kan slå den 50% svarrate."
   ]
  },
  {
   "cell_type": "markdown",
   "metadata": {},
   "source": [
    "### Logistisk regression"
   ]
  },
  {
   "cell_type": "code",
   "execution_count": 5,
   "metadata": {},
   "outputs": [],
   "source": [
    "# hent nødvendige pakker fra Scikit Learn biblioteket (generelt super hvis man vil lave data science)\n",
    "from sklearn.linear_model import LogisticRegression\n",
    "from sklearn.model_selection import train_test_split"
   ]
  },
  {
   "cell_type": "markdown",
   "metadata": {},
   "source": [
    "Vi fitter nu en logistic regression classifier til vores data, og fitter en model, så den kan genkende om man spiller for en topklub eller ej, og evaluere resultatet:"
   ]
  },
  {
   "cell_type": "code",
   "execution_count": 6,
   "metadata": {},
   "outputs": [
    {
     "data": {
      "text/plain": [
       "0.83569182389937102"
      ]
     },
     "execution_count": 6,
     "metadata": {},
     "output_type": "execute_result"
    }
   ],
   "source": [
    "model = LogisticRegression()\n",
    "model = model.fit(X,y)\n",
    "\n",
    "model.score(X,y)"
   ]
  },
  {
   "cell_type": "markdown",
   "metadata": {
    "variables": {
     "'{:.0f}'.format(100*model.score(X, y))": "84"
    }
   },
   "source": [
    "Altså har vores model ret i \n",
    "{{'{:.0f}'.format(100*model.score(X, y))}}% af tiden i træningssættet. <br>\n",
    "\n",
    "Pretty good!! Den har altså fundet nogle mønstre der kan mappe data til labels, og gætter ikke bare."
   ]
  },
  {
   "cell_type": "markdown",
   "metadata": {},
   "source": [
    "Men vi kan ikke vide, om den har overfittet, og derved har tilpasset sig for godt til sit kendte data, så nyt data vil blive fejlmappet. <br>\n",
    "Hvad vi kan prøve er at splitte vores træningssæt op i et trænings- OG testsæt. På den måde kan vi først fitte og derefter evaluere på \"nyt\" kendt data, om den stadig performer som forventet. "
   ]
  },
  {
   "cell_type": "code",
   "execution_count": 7,
   "metadata": {},
   "outputs": [
    {
     "name": "stdout",
     "output_type": "stream",
     "text": [
      "Træningsæt størrelse: 1017 - Testsæt størrelse: 255\n"
     ]
    }
   ],
   "source": [
    "X_train, X_test, y_train, y_test = train_test_split(X, y, test_size = 0.2)\n",
    "print('Træningsæt størrelse: {} - Testsæt størrelse: {}'.format(len(X_train), len(X_test)))"
   ]
  },
  {
   "cell_type": "markdown",
   "metadata": {},
   "source": [
    "Og vi er nu klar til at prøve igen !"
   ]
  },
  {
   "cell_type": "markdown",
   "metadata": {},
   "source": [
    "## Logistic regression 2.0"
   ]
  },
  {
   "cell_type": "markdown",
   "metadata": {},
   "source": [
    "Igen fitter vi en logistic regression til vores træningsdata, og fitter en model. Men denne gang uden at involvere testsættet."
   ]
  },
  {
   "cell_type": "code",
   "execution_count": 8,
   "metadata": {},
   "outputs": [
    {
     "data": {
      "text/plain": [
       "0.83087512291052112"
      ]
     },
     "execution_count": 8,
     "metadata": {},
     "output_type": "execute_result"
    }
   ],
   "source": [
    "model2 = LogisticRegression()\n",
    "model2 = model2.fit(X_train, y_train)\n",
    "model2.score(X_train, y_train)"
   ]
  },
  {
   "cell_type": "markdown",
   "metadata": {
    "variables": {
     "'{:.0f}'.format(100*model2.score(X, y))": "84"
    }
   },
   "source": [
    "Modellen matcher nu \n",
    "{{'{:.0f}'.format(100*model2.score(X, y))}}% af tiden i træningssættet. <br> \n",
    "Men har den overfittet?"
   ]
  },
  {
   "cell_type": "markdown",
   "metadata": {},
   "source": [
    "### Evaluering af modellen"
   ]
  },
  {
   "cell_type": "markdown",
   "metadata": {},
   "source": [
    "Vi generere derfor vores *y* prediktioner og også sandsynlighederne for disse"
   ]
  },
  {
   "cell_type": "code",
   "execution_count": 9,
   "metadata": {},
   "outputs": [],
   "source": [
    "y_pred = model2.predict(X_test)\n",
    "y_probs = model2.predict_proba(X_test)"
   ]
  },
  {
   "cell_type": "code",
   "execution_count": 10,
   "metadata": {},
   "outputs": [
    {
     "name": "stdout",
     "output_type": "stream",
     "text": [
      "Nøjagtigheden af vores logistiske regressions models prediction på testsættet er 86% \n",
      "\n",
      "Arealet under vores ROC AUC kurve er 92%\n"
     ]
    }
   ],
   "source": [
    "# Evalueringsmålinger\n",
    "from sklearn import metrics\n",
    "print('Nøjagtigheden af vores logistiske regressions models prediction på testsættet er {:.0f}'.format(100*metrics.accuracy_score(y_test, y_pred))+'%', '\\n')\n",
    "print('Arealet under vores ROC AUC kurve er {:.0f}'.format(100*metrics.roc_auc_score(y_test, y_probs[:, 1]))+'%')"
   ]
  },
  {
   "cell_type": "markdown",
   "metadata": {},
   "source": [
    "Det ser jo ret fornuftigt ud.<br>\n",
    "\n",
    "For at sige noget om vores nye model, kan vi også lave en \"confusion_matrix\""
   ]
  },
  {
   "cell_type": "markdown",
   "metadata": {},
   "source": [
    "<img src='http://revolution-computing.typepad.com/.a/6a010534b1db25970b01bb08c97955970d-pi',\n",
    "    align=\"center\"\n",
    "    width=\"40%\"\n",
    "    alt=\"confusion matrix\">\n",
    "    \n",
    "T og F står for henholdsvist True og False<br>\n",
    "P og N står for henholdsvist Positive og Negative"
   ]
  },
  {
   "cell_type": "code",
   "execution_count": 11,
   "metadata": {},
   "outputs": [
    {
     "name": "stdout",
     "output_type": "stream",
     "text": [
      "[[118  12]\n",
      " [ 24 101]]\n"
     ]
    }
   ],
   "source": [
    "confusion_matrix = metrics.confusion_matrix(y_test, y_pred)\n",
    "print(confusion_matrix)"
   ]
  },
  {
   "cell_type": "markdown",
   "metadata": {
    "variables": {
     "confusion_matrix[0,0]": "118",
     "confusion_matrix[0,0]+confusion_matrix[1,1]": "219",
     "confusion_matrix[0,1]": "12",
     "confusion_matrix[0,1]+confusion_matrix[1,0]": "36",
     "confusion_matrix[1,0]": "24",
     "confusion_matrix[1,1]": "101"
    }
   },
   "source": [
    "Resultatet fortæller os, at vi har {{confusion_matrix[0,0]}}+{{confusion_matrix[1,1]}} = {{confusion_matrix[0,0]+confusion_matrix[1,1]}} korrekte forudsigelser og {{confusion_matrix[0,1]}}+{{confusion_matrix[1,0]}} = {{confusion_matrix[0,1]+confusion_matrix[1,0]}} ukorrekte"
   ]
  },
  {
   "cell_type": "markdown",
   "metadata": {},
   "source": [
    "Man kan også bede classifieren om en rapport:"
   ]
  },
  {
   "cell_type": "code",
   "execution_count": 12,
   "metadata": {},
   "outputs": [
    {
     "name": "stdout",
     "output_type": "stream",
     "text": [
      "             precision    recall  f1-score   support\n",
      "\n",
      "          0       0.83      0.91      0.87       130\n",
      "          1       0.89      0.81      0.85       125\n",
      "\n",
      "avg / total       0.86      0.86      0.86       255\n",
      "\n"
     ]
    }
   ],
   "source": [
    "print(metrics.classification_report(y_test, y_pred))"
   ]
  },
  {
   "cell_type": "markdown",
   "metadata": {},
   "source": [
    "### Logistisk regression med krydsvalidering\n",
    "\n",
    "Vi er egentlig meget tilfredse med vores model, men ofte kan det være en god idé at teste på flere små testsæt, og holde dem op mod hinanden. <br>\n",
    "\n",
    "Her laver vi en 10-folds krydsvalidering og får altså 10 scorer ud:"
   ]
  },
  {
   "cell_type": "code",
   "execution_count": 14,
   "metadata": {},
   "outputs": [
    {
     "name": "stdout",
     "output_type": "stream",
     "text": [
      "[ 0.96875     0.921875    0.9609375   0.9609375   0.9765625   0.9140625\n",
      "  0.91269841  0.75396825  0.44444444  0.46031746] \n",
      "\n",
      "0.827455357143\n"
     ]
    }
   ],
   "source": [
    "# 10-folds cross-validation\n",
    "from sklearn.model_selection import cross_val_score\n",
    "scores = cross_val_score(LogisticRegression(), X, y, scoring='accuracy', cv=10)\n",
    "print(scores,'\\n')\n",
    "print(scores.mean())"
   ]
  },
  {
   "cell_type": "markdown",
   "metadata": {
    "variables": {
     "'{:.0f}'.format(100*scores.mean())": "83"
    }
   },
   "source": [
    "Her preformer modellen altså i gennemsnit \n",
    "{{'{:.0f}'.format(100*scores.mean())}}%. \n",
    "\n",
    "Det lyder meget lovende, men vi holder os til vores *model2* og kan nu prøve modellen af på det rigtige datasæt"
   ]
  },
  {
   "cell_type": "markdown",
   "metadata": {},
   "source": [
    "# Danskersættet \n",
    "Vi kan nu lave prediction og probability på vores danske spillere.<br>\n",
    "Først laver vi en dataframe der kun indeholder de numeriske værdier, og så laver vi vores prediction og sandsynligheder, ligesom vi gjorde tidligere for testsættet"
   ]
  },
  {
   "cell_type": "code",
   "execution_count": 15,
   "metadata": {
    "collapsed": true
   },
   "outputs": [],
   "source": [
    "dansker_pred = model2.predict(dansker_set.select_dtypes(include=['float64', 'int64']))\n",
    "dansker_probs = model2.predict_proba(dansker_set.select_dtypes(include=['float64', 'int64']))"
   ]
  },
  {
   "cell_type": "markdown",
   "metadata": {},
   "source": [
    "Vi tilføjer disse kolonner til vores dataframe"
   ]
  },
  {
   "cell_type": "code",
   "execution_count": 16,
   "metadata": {
    "scrolled": true
   },
   "outputs": [
    {
     "name": "stderr",
     "output_type": "stream",
     "text": [
      "/home/sidsel/.local/lib/python3.5/site-packages/ipykernel_launcher.py:1: SettingWithCopyWarning: \n",
      "A value is trying to be set on a copy of a slice from a DataFrame.\n",
      "Try using .loc[row_indexer,col_indexer] = value instead\n",
      "\n",
      "See the caveats in the documentation: http://pandas.pydata.org/pandas-docs/stable/indexing.html#indexing-view-versus-copy\n",
      "  \"\"\"Entry point for launching an IPython kernel.\n",
      "/home/sidsel/.local/lib/python3.5/site-packages/ipykernel_launcher.py:2: SettingWithCopyWarning: \n",
      "A value is trying to be set on a copy of a slice from a DataFrame.\n",
      "Try using .loc[row_indexer,col_indexer] = value instead\n",
      "\n",
      "See the caveats in the documentation: http://pandas.pydata.org/pandas-docs/stable/indexing.html#indexing-view-versus-copy\n",
      "  \n"
     ]
    }
   ],
   "source": [
    "dansker_set['Probabilities [0,1]'] = dansker_probs.tolist()\n",
    "dansker_set['Prediction'] = pd.Series(dansker_pred, index=dansker_set.index)"
   ]
  },
  {
   "cell_type": "markdown",
   "metadata": {},
   "source": [
    "Vi sortere listen, så de bedste danske spillere står øvers, og tilføjer et index, så vi kan få et bedre overblik"
   ]
  },
  {
   "cell_type": "code",
   "execution_count": 20,
   "metadata": {},
   "outputs": [
    {
     "name": "stderr",
     "output_type": "stream",
     "text": [
      "/usr/local/lib/python3.5/dist-packages/pandas/core/indexing.py:477: SettingWithCopyWarning: \n",
      "A value is trying to be set on a copy of a slice from a DataFrame.\n",
      "Try using .loc[row_indexer,col_indexer] = value instead\n",
      "\n",
      "See the caveats in the documentation: http://pandas.pydata.org/pandas-docs/stable/indexing.html#indexing-view-versus-copy\n",
      "  self.obj[item] = s\n"
     ]
    },
    {
     "data": {
      "text/html": [
       "<div>\n",
       "<table border=\"1\" class=\"dataframe\">\n",
       "  <thead>\n",
       "    <tr style=\"text-align: right;\">\n",
       "      <th></th>\n",
       "      <th>Name</th>\n",
       "      <th>Club</th>\n",
       "      <th>Overall</th>\n",
       "      <th>Potential</th>\n",
       "      <th>Probabilities [0,1]</th>\n",
       "      <th>Prediction</th>\n",
       "    </tr>\n",
       "    <tr>\n",
       "      <th>in</th>\n",
       "      <th></th>\n",
       "      <th></th>\n",
       "      <th></th>\n",
       "      <th></th>\n",
       "      <th></th>\n",
       "      <th></th>\n",
       "    </tr>\n",
       "  </thead>\n",
       "  <tbody>\n",
       "    <tr>\n",
       "      <th>1</th>\n",
       "      <td>C. Eriksen</td>\n",
       "      <td>Tottenham Hotspur</td>\n",
       "      <td>87</td>\n",
       "      <td>91</td>\n",
       "      <td>[5.388461900013297e-07, 0.99999946115381]</td>\n",
       "      <td>1</td>\n",
       "    </tr>\n",
       "    <tr>\n",
       "      <th>2</th>\n",
       "      <td>A. Christensen</td>\n",
       "      <td>Chelsea</td>\n",
       "      <td>81</td>\n",
       "      <td>89</td>\n",
       "      <td>[0.007575822103182195, 0.9924241778968178]</td>\n",
       "      <td>1</td>\n",
       "    </tr>\n",
       "    <tr>\n",
       "      <th>3</th>\n",
       "      <td>K. Schmeichel</td>\n",
       "      <td>Leicester City</td>\n",
       "      <td>83</td>\n",
       "      <td>84</td>\n",
       "      <td>[0.019318008930466646, 0.9806819910695334]</td>\n",
       "      <td>1</td>\n",
       "    </tr>\n",
       "    <tr>\n",
       "      <th>4</th>\n",
       "      <td>D. Wass</td>\n",
       "      <td>RC Celta de Vigo</td>\n",
       "      <td>80</td>\n",
       "      <td>80</td>\n",
       "      <td>[0.11280435736931493, 0.8871956426306851]</td>\n",
       "      <td>1</td>\n",
       "    </tr>\n",
       "    <tr>\n",
       "      <th>5</th>\n",
       "      <td>Y. Poulsen</td>\n",
       "      <td>RB Leipzig</td>\n",
       "      <td>76</td>\n",
       "      <td>83</td>\n",
       "      <td>[0.11298621598651326, 0.8870137840134867]</td>\n",
       "      <td>1</td>\n",
       "    </tr>\n",
       "    <tr>\n",
       "      <th>6</th>\n",
       "      <td>J. Vestergaard</td>\n",
       "      <td>Borussia Mönchengladbach</td>\n",
       "      <td>79</td>\n",
       "      <td>84</td>\n",
       "      <td>[0.12739959095157738, 0.8726004090484226]</td>\n",
       "      <td>1</td>\n",
       "    </tr>\n",
       "    <tr>\n",
       "      <th>7</th>\n",
       "      <td>S. Kjær</td>\n",
       "      <td>Sevilla FC</td>\n",
       "      <td>81</td>\n",
       "      <td>82</td>\n",
       "      <td>[0.12873877286188196, 0.871261227138118]</td>\n",
       "      <td>1</td>\n",
       "    </tr>\n",
       "    <tr>\n",
       "      <th>8</th>\n",
       "      <td>N. Jørgensen</td>\n",
       "      <td>Feyenoord</td>\n",
       "      <td>79</td>\n",
       "      <td>81</td>\n",
       "      <td>[0.14940022803762587, 0.8505997719623741]</td>\n",
       "      <td>1</td>\n",
       "    </tr>\n",
       "    <tr>\n",
       "      <th>9</th>\n",
       "      <td>P. Højbjerg</td>\n",
       "      <td>Southampton</td>\n",
       "      <td>75</td>\n",
       "      <td>81</td>\n",
       "      <td>[0.18351302995208163, 0.8164869700479184]</td>\n",
       "      <td>1</td>\n",
       "    </tr>\n",
       "    <tr>\n",
       "      <th>10</th>\n",
       "      <td>K. Dolberg</td>\n",
       "      <td>Ajax</td>\n",
       "      <td>78</td>\n",
       "      <td>88</td>\n",
       "      <td>[0.2368926788786293, 0.7631073211213707]</td>\n",
       "      <td>1</td>\n",
       "    </tr>\n",
       "    <tr>\n",
       "      <th>11</th>\n",
       "      <td>M. Braithwaite</td>\n",
       "      <td>Middlesbrough</td>\n",
       "      <td>77</td>\n",
       "      <td>80</td>\n",
       "      <td>[0.2618494537176186, 0.7381505462823814]</td>\n",
       "      <td>1</td>\n",
       "    </tr>\n",
       "    <tr>\n",
       "      <th>12</th>\n",
       "      <td>F. Sørensen</td>\n",
       "      <td>1. FC Köln</td>\n",
       "      <td>77</td>\n",
       "      <td>81</td>\n",
       "      <td>[0.26223823397924184, 0.7377617660207582]</td>\n",
       "      <td>1</td>\n",
       "    </tr>\n",
       "    <tr>\n",
       "      <th>13</th>\n",
       "      <td>M. Jørgensen</td>\n",
       "      <td>Huddersfield Town</td>\n",
       "      <td>75</td>\n",
       "      <td>78</td>\n",
       "      <td>[0.28315472491562754, 0.7168452750843725]</td>\n",
       "      <td>1</td>\n",
       "    </tr>\n",
       "    <tr>\n",
       "      <th>14</th>\n",
       "      <td>L. Andersen</td>\n",
       "      <td>Grasshopper Club Zürich</td>\n",
       "      <td>76</td>\n",
       "      <td>83</td>\n",
       "      <td>[0.29891570147357927, 0.7010842985264207]</td>\n",
       "      <td>1</td>\n",
       "    </tr>\n",
       "    <tr>\n",
       "      <th>15</th>\n",
       "      <td>L. Lerager</td>\n",
       "      <td>Girondins de Bordeaux</td>\n",
       "      <td>75</td>\n",
       "      <td>80</td>\n",
       "      <td>[0.3046361301975674, 0.6953638698024326]</td>\n",
       "      <td>1</td>\n",
       "    </tr>\n",
       "    <tr>\n",
       "      <th>16</th>\n",
       "      <td>V. Fischer</td>\n",
       "      <td>1. FSV Mainz 05</td>\n",
       "      <td>75</td>\n",
       "      <td>82</td>\n",
       "      <td>[0.33660305911678023, 0.6633969408832198]</td>\n",
       "      <td>1</td>\n",
       "    </tr>\n",
       "    <tr>\n",
       "      <th>17</th>\n",
       "      <td>M. Krohn-Dehli</td>\n",
       "      <td>Sevilla FC</td>\n",
       "      <td>79</td>\n",
       "      <td>79</td>\n",
       "      <td>[0.3580321213127231, 0.6419678786872769]</td>\n",
       "      <td>1</td>\n",
       "    </tr>\n",
       "    <tr>\n",
       "      <th>18</th>\n",
       "      <td>E. Sviatchenko</td>\n",
       "      <td>Celtic</td>\n",
       "      <td>73</td>\n",
       "      <td>75</td>\n",
       "      <td>[0.3816024029002437, 0.6183975970997563]</td>\n",
       "      <td>1</td>\n",
       "    </tr>\n",
       "    <tr>\n",
       "      <th>19</th>\n",
       "      <td>J. Poulsen</td>\n",
       "      <td>FC Midtjylland</td>\n",
       "      <td>71</td>\n",
       "      <td>71</td>\n",
       "      <td>[0.38602869857144706, 0.6139713014285529]</td>\n",
       "      <td>1</td>\n",
       "    </tr>\n",
       "    <tr>\n",
       "      <th>20</th>\n",
       "      <td>P. Sisto</td>\n",
       "      <td>RC Celta de Vigo</td>\n",
       "      <td>74</td>\n",
       "      <td>83</td>\n",
       "      <td>[0.39662247106067805, 0.603377528939322]</td>\n",
       "      <td>1</td>\n",
       "    </tr>\n",
       "    <tr>\n",
       "      <th>21</th>\n",
       "      <td>A. Bjelland</td>\n",
       "      <td>Brentford</td>\n",
       "      <td>73</td>\n",
       "      <td>73</td>\n",
       "      <td>[0.40187645953220963, 0.5981235404677904]</td>\n",
       "      <td>1</td>\n",
       "    </tr>\n",
       "    <tr>\n",
       "      <th>22</th>\n",
       "      <td>L. Schøne</td>\n",
       "      <td>Ajax</td>\n",
       "      <td>77</td>\n",
       "      <td>77</td>\n",
       "      <td>[0.41556925736568595, 0.584430742634314]</td>\n",
       "      <td>1</td>\n",
       "    </tr>\n",
       "    <tr>\n",
       "      <th>23</th>\n",
       "      <td>J. Lössl</td>\n",
       "      <td>Huddersfield Town</td>\n",
       "      <td>75</td>\n",
       "      <td>76</td>\n",
       "      <td>[0.44519006960301777, 0.5548099303969822]</td>\n",
       "      <td>1</td>\n",
       "    </tr>\n",
       "    <tr>\n",
       "      <th>24</th>\n",
       "      <td>R. Falk Jensen</td>\n",
       "      <td>FC København</td>\n",
       "      <td>74</td>\n",
       "      <td>77</td>\n",
       "      <td>[0.4505220730153132, 0.5494779269846868]</td>\n",
       "      <td>1</td>\n",
       "    </tr>\n",
       "    <tr>\n",
       "      <th>25</th>\n",
       "      <td>P. Mtiliga</td>\n",
       "      <td>FC Nordsjælland</td>\n",
       "      <td>69</td>\n",
       "      <td>69</td>\n",
       "      <td>[0.4664448042390671, 0.5335551957609329]</td>\n",
       "      <td>1</td>\n",
       "    </tr>\n",
       "    <tr>\n",
       "      <th>26</th>\n",
       "      <td>A. Cornelius</td>\n",
       "      <td>Atalanta</td>\n",
       "      <td>73</td>\n",
       "      <td>78</td>\n",
       "      <td>[0.46986351815565486, 0.5301364818443451]</td>\n",
       "      <td>1</td>\n",
       "    </tr>\n",
       "    <tr>\n",
       "      <th>27</th>\n",
       "      <td>M. Rasmussen</td>\n",
       "      <td>Aarhus GF</td>\n",
       "      <td>69</td>\n",
       "      <td>69</td>\n",
       "      <td>[0.4720600954728654, 0.5279399045271346]</td>\n",
       "      <td>1</td>\n",
       "    </tr>\n",
       "    <tr>\n",
       "      <th>28</th>\n",
       "      <td>L. Vibe</td>\n",
       "      <td>Brentford</td>\n",
       "      <td>72</td>\n",
       "      <td>72</td>\n",
       "      <td>[0.4764762934406618, 0.5235237065593382]</td>\n",
       "      <td>1</td>\n",
       "    </tr>\n",
       "    <tr>\n",
       "      <th>29</th>\n",
       "      <td>J. Hansen</td>\n",
       "      <td>FC Midtjylland</td>\n",
       "      <td>73</td>\n",
       "      <td>73</td>\n",
       "      <td>[0.5030345684837422, 0.4969654315162578]</td>\n",
       "      <td>0</td>\n",
       "    </tr>\n",
       "    <tr>\n",
       "      <th>30</th>\n",
       "      <td>A. Lindegaard</td>\n",
       "      <td>Burnley</td>\n",
       "      <td>70</td>\n",
       "      <td>70</td>\n",
       "      <td>[0.5134409479825994, 0.4865590520174005]</td>\n",
       "      <td>0</td>\n",
       "    </tr>\n",
       "    <tr>\n",
       "      <th>...</th>\n",
       "      <td>...</td>\n",
       "      <td>...</td>\n",
       "      <td>...</td>\n",
       "      <td>...</td>\n",
       "      <td>...</td>\n",
       "      <td>...</td>\n",
       "    </tr>\n",
       "    <tr>\n",
       "      <th>317</th>\n",
       "      <td>A. Holst</td>\n",
       "      <td>FC Helsingør</td>\n",
       "      <td>57</td>\n",
       "      <td>60</td>\n",
       "      <td>[0.8625814352270562, 0.13741856477294384]</td>\n",
       "      <td>0</td>\n",
       "    </tr>\n",
       "    <tr>\n",
       "      <th>318</th>\n",
       "      <td>K. Tshiembe</td>\n",
       "      <td>Lyngby BK</td>\n",
       "      <td>52</td>\n",
       "      <td>68</td>\n",
       "      <td>[0.8626979421100084, 0.1373020578899916]</td>\n",
       "      <td>0</td>\n",
       "    </tr>\n",
       "    <tr>\n",
       "      <th>319</th>\n",
       "      <td>T. Damsgaard</td>\n",
       "      <td>Randers FC</td>\n",
       "      <td>51</td>\n",
       "      <td>66</td>\n",
       "      <td>[0.8629008591757475, 0.13709914082425248]</td>\n",
       "      <td>0</td>\n",
       "    </tr>\n",
       "    <tr>\n",
       "      <th>320</th>\n",
       "      <td>O. Snorre</td>\n",
       "      <td>Lyngby BK</td>\n",
       "      <td>52</td>\n",
       "      <td>73</td>\n",
       "      <td>[0.8630052458651614, 0.13699475413483866]</td>\n",
       "      <td>0</td>\n",
       "    </tr>\n",
       "    <tr>\n",
       "      <th>321</th>\n",
       "      <td>N. Lyngø</td>\n",
       "      <td>Aalborg BK</td>\n",
       "      <td>54</td>\n",
       "      <td>65</td>\n",
       "      <td>[0.8631458104161922, 0.13685418958380774]</td>\n",
       "      <td>0</td>\n",
       "    </tr>\n",
       "    <tr>\n",
       "      <th>322</th>\n",
       "      <td>J. Eskesen</td>\n",
       "      <td>Odense Boldklub</td>\n",
       "      <td>52</td>\n",
       "      <td>68</td>\n",
       "      <td>[0.8631559792851411, 0.13684402071485893]</td>\n",
       "      <td>0</td>\n",
       "    </tr>\n",
       "    <tr>\n",
       "      <th>323</th>\n",
       "      <td>O. Albayrak</td>\n",
       "      <td>Hobro IK</td>\n",
       "      <td>56</td>\n",
       "      <td>64</td>\n",
       "      <td>[0.8631778104050425, 0.13682218959495746]</td>\n",
       "      <td>0</td>\n",
       "    </tr>\n",
       "    <tr>\n",
       "      <th>324</th>\n",
       "      <td>D. Thøgersen</td>\n",
       "      <td>Aarhus GF</td>\n",
       "      <td>52</td>\n",
       "      <td>70</td>\n",
       "      <td>[0.8632433827494401, 0.13675661725055985]</td>\n",
       "      <td>0</td>\n",
       "    </tr>\n",
       "    <tr>\n",
       "      <th>325</th>\n",
       "      <td>M. Warming</td>\n",
       "      <td>Brøndby IF</td>\n",
       "      <td>51</td>\n",
       "      <td>66</td>\n",
       "      <td>[0.8633161887940434, 0.1366838112059566]</td>\n",
       "      <td>0</td>\n",
       "    </tr>\n",
       "    <tr>\n",
       "      <th>326</th>\n",
       "      <td>O. Ottesen</td>\n",
       "      <td>FC Midtjylland</td>\n",
       "      <td>57</td>\n",
       "      <td>67</td>\n",
       "      <td>[0.8633597807745168, 0.13664021922548314]</td>\n",
       "      <td>0</td>\n",
       "    </tr>\n",
       "    <tr>\n",
       "      <th>327</th>\n",
       "      <td>G. Marcussen</td>\n",
       "      <td>Lyngby BK</td>\n",
       "      <td>50</td>\n",
       "      <td>69</td>\n",
       "      <td>[0.8634947901237844, 0.13650520987621562]</td>\n",
       "      <td>0</td>\n",
       "    </tr>\n",
       "    <tr>\n",
       "      <th>328</th>\n",
       "      <td>A. Vaporakis</td>\n",
       "      <td>FC Helsingør</td>\n",
       "      <td>53</td>\n",
       "      <td>63</td>\n",
       "      <td>[0.8635776526619943, 0.13642234733800573]</td>\n",
       "      <td>0</td>\n",
       "    </tr>\n",
       "    <tr>\n",
       "      <th>329</th>\n",
       "      <td>F. Roepstorff</td>\n",
       "      <td>FC Helsingør</td>\n",
       "      <td>51</td>\n",
       "      <td>70</td>\n",
       "      <td>[0.863631608349973, 0.136368391650027]</td>\n",
       "      <td>0</td>\n",
       "    </tr>\n",
       "    <tr>\n",
       "      <th>330</th>\n",
       "      <td>M. Hegaard</td>\n",
       "      <td>FC Helsingør</td>\n",
       "      <td>51</td>\n",
       "      <td>69</td>\n",
       "      <td>[0.863655090826206, 0.13634490917379405]</td>\n",
       "      <td>0</td>\n",
       "    </tr>\n",
       "    <tr>\n",
       "      <th>331</th>\n",
       "      <td>G. Arndal-Lauritzen</td>\n",
       "      <td>Brøndby IF</td>\n",
       "      <td>50</td>\n",
       "      <td>67</td>\n",
       "      <td>[0.8636634854143466, 0.1363365145856534]</td>\n",
       "      <td>0</td>\n",
       "    </tr>\n",
       "    <tr>\n",
       "      <th>332</th>\n",
       "      <td>C. Enemark</td>\n",
       "      <td>Brøndby IF</td>\n",
       "      <td>50</td>\n",
       "      <td>69</td>\n",
       "      <td>[0.863670899239281, 0.13632910076071908]</td>\n",
       "      <td>0</td>\n",
       "    </tr>\n",
       "    <tr>\n",
       "      <th>333</th>\n",
       "      <td>M. Johannsen</td>\n",
       "      <td>FC Helsingør</td>\n",
       "      <td>54</td>\n",
       "      <td>58</td>\n",
       "      <td>[0.863699809749156, 0.1363001902508441]</td>\n",
       "      <td>0</td>\n",
       "    </tr>\n",
       "    <tr>\n",
       "      <th>334</th>\n",
       "      <td>M. Andersen</td>\n",
       "      <td>Aalborg BK</td>\n",
       "      <td>52</td>\n",
       "      <td>66</td>\n",
       "      <td>[0.863713789957608, 0.13628621004239205]</td>\n",
       "      <td>0</td>\n",
       "    </tr>\n",
       "    <tr>\n",
       "      <th>335</th>\n",
       "      <td>A. Kappenberger</td>\n",
       "      <td>FC Helsingør</td>\n",
       "      <td>52</td>\n",
       "      <td>66</td>\n",
       "      <td>[0.8637472589393791, 0.1362527410606209]</td>\n",
       "      <td>0</td>\n",
       "    </tr>\n",
       "    <tr>\n",
       "      <th>336</th>\n",
       "      <td>M. Haarup</td>\n",
       "      <td>Hobro IK</td>\n",
       "      <td>54</td>\n",
       "      <td>66</td>\n",
       "      <td>[0.8638556105106039, 0.13614438948939606]</td>\n",
       "      <td>0</td>\n",
       "    </tr>\n",
       "    <tr>\n",
       "      <th>337</th>\n",
       "      <td>M. Mattsson</td>\n",
       "      <td>Silkeborg IF</td>\n",
       "      <td>54</td>\n",
       "      <td>76</td>\n",
       "      <td>[0.8638752418070074, 0.1361247581929926]</td>\n",
       "      <td>0</td>\n",
       "    </tr>\n",
       "    <tr>\n",
       "      <th>338</th>\n",
       "      <td>E. Simonsen</td>\n",
       "      <td>Lyngby BK</td>\n",
       "      <td>53</td>\n",
       "      <td>77</td>\n",
       "      <td>[0.8638764271832241, 0.13612357281677587]</td>\n",
       "      <td>0</td>\n",
       "    </tr>\n",
       "    <tr>\n",
       "      <th>339</th>\n",
       "      <td>T. Arndal</td>\n",
       "      <td>AC Horsens</td>\n",
       "      <td>52</td>\n",
       "      <td>65</td>\n",
       "      <td>[0.8639034719250919, 0.1360965280749081]</td>\n",
       "      <td>0</td>\n",
       "    </tr>\n",
       "    <tr>\n",
       "      <th>340</th>\n",
       "      <td>A. Skov Olsen</td>\n",
       "      <td>FC Nordsjælland</td>\n",
       "      <td>53</td>\n",
       "      <td>66</td>\n",
       "      <td>[0.8639269492991564, 0.1360730507008437]</td>\n",
       "      <td>0</td>\n",
       "    </tr>\n",
       "    <tr>\n",
       "      <th>341</th>\n",
       "      <td>I. Esen</td>\n",
       "      <td>FC Helsingør</td>\n",
       "      <td>50</td>\n",
       "      <td>69</td>\n",
       "      <td>[0.8640201455959649, 0.1359798544040351]</td>\n",
       "      <td>0</td>\n",
       "    </tr>\n",
       "    <tr>\n",
       "      <th>342</th>\n",
       "      <td>A. Junge</td>\n",
       "      <td>FC Helsingør</td>\n",
       "      <td>50</td>\n",
       "      <td>56</td>\n",
       "      <td>[0.8642539167301875, 0.13574608326981247]</td>\n",
       "      <td>0</td>\n",
       "    </tr>\n",
       "    <tr>\n",
       "      <th>343</th>\n",
       "      <td>A. Ammitzbøl</td>\n",
       "      <td>Aarhus GF</td>\n",
       "      <td>55</td>\n",
       "      <td>64</td>\n",
       "      <td>[0.8643961589860119, 0.1356038410139881]</td>\n",
       "      <td>0</td>\n",
       "    </tr>\n",
       "    <tr>\n",
       "      <th>344</th>\n",
       "      <td>M. Iversen</td>\n",
       "      <td>Aalborg BK</td>\n",
       "      <td>50</td>\n",
       "      <td>62</td>\n",
       "      <td>[0.8655936760747065, 0.13440632392529353]</td>\n",
       "      <td>0</td>\n",
       "    </tr>\n",
       "    <tr>\n",
       "      <th>345</th>\n",
       "      <td>F. Nørgaard</td>\n",
       "      <td>AC Horsens</td>\n",
       "      <td>50</td>\n",
       "      <td>62</td>\n",
       "      <td>[0.865847340593608, 0.134152659406392]</td>\n",
       "      <td>0</td>\n",
       "    </tr>\n",
       "    <tr>\n",
       "      <th>346</th>\n",
       "      <td>O. Drost</td>\n",
       "      <td>AC Horsens</td>\n",
       "      <td>51</td>\n",
       "      <td>58</td>\n",
       "      <td>[0.8658547046254484, 0.13414529537455153]</td>\n",
       "      <td>0</td>\n",
       "    </tr>\n",
       "  </tbody>\n",
       "</table>\n",
       "<p>346 rows × 6 columns</p>\n",
       "</div>"
      ],
      "text/plain": [
       "                    Name                      Club  Overall  Potential  \\\n",
       "in                                                                       \n",
       "1             C. Eriksen         Tottenham Hotspur       87         91   \n",
       "2         A. Christensen                   Chelsea       81         89   \n",
       "3          K. Schmeichel            Leicester City       83         84   \n",
       "4                D. Wass          RC Celta de Vigo       80         80   \n",
       "5             Y. Poulsen                RB Leipzig       76         83   \n",
       "6         J. Vestergaard  Borussia Mönchengladbach       79         84   \n",
       "7                S. Kjær                Sevilla FC       81         82   \n",
       "8           N. Jørgensen                 Feyenoord       79         81   \n",
       "9            P. Højbjerg               Southampton       75         81   \n",
       "10            K. Dolberg                      Ajax       78         88   \n",
       "11        M. Braithwaite             Middlesbrough       77         80   \n",
       "12           F. Sørensen                1. FC Köln       77         81   \n",
       "13          M. Jørgensen         Huddersfield Town       75         78   \n",
       "14           L. Andersen   Grasshopper Club Zürich       76         83   \n",
       "15            L. Lerager     Girondins de Bordeaux       75         80   \n",
       "16            V. Fischer           1. FSV Mainz 05       75         82   \n",
       "17        M. Krohn-Dehli                Sevilla FC       79         79   \n",
       "18        E. Sviatchenko                    Celtic       73         75   \n",
       "19            J. Poulsen            FC Midtjylland       71         71   \n",
       "20              P. Sisto          RC Celta de Vigo       74         83   \n",
       "21           A. Bjelland                 Brentford       73         73   \n",
       "22             L. Schøne                      Ajax       77         77   \n",
       "23              J. Lössl         Huddersfield Town       75         76   \n",
       "24        R. Falk Jensen              FC København       74         77   \n",
       "25            P. Mtiliga           FC Nordsjælland       69         69   \n",
       "26          A. Cornelius                  Atalanta       73         78   \n",
       "27          M. Rasmussen                 Aarhus GF       69         69   \n",
       "28               L. Vibe                 Brentford       72         72   \n",
       "29             J. Hansen            FC Midtjylland       73         73   \n",
       "30         A. Lindegaard                   Burnley       70         70   \n",
       "..                   ...                       ...      ...        ...   \n",
       "317             A. Holst              FC Helsingør       57         60   \n",
       "318          K. Tshiembe                 Lyngby BK       52         68   \n",
       "319         T. Damsgaard                Randers FC       51         66   \n",
       "320            O. Snorre                 Lyngby BK       52         73   \n",
       "321             N. Lyngø                Aalborg BK       54         65   \n",
       "322           J. Eskesen           Odense Boldklub       52         68   \n",
       "323          O. Albayrak                  Hobro IK       56         64   \n",
       "324         D. Thøgersen                 Aarhus GF       52         70   \n",
       "325           M. Warming                Brøndby IF       51         66   \n",
       "326           O. Ottesen            FC Midtjylland       57         67   \n",
       "327         G. Marcussen                 Lyngby BK       50         69   \n",
       "328         A. Vaporakis              FC Helsingør       53         63   \n",
       "329        F. Roepstorff              FC Helsingør       51         70   \n",
       "330           M. Hegaard              FC Helsingør       51         69   \n",
       "331  G. Arndal-Lauritzen                Brøndby IF       50         67   \n",
       "332           C. Enemark                Brøndby IF       50         69   \n",
       "333         M. Johannsen              FC Helsingør       54         58   \n",
       "334          M. Andersen                Aalborg BK       52         66   \n",
       "335      A. Kappenberger              FC Helsingør       52         66   \n",
       "336            M. Haarup                  Hobro IK       54         66   \n",
       "337          M. Mattsson              Silkeborg IF       54         76   \n",
       "338          E. Simonsen                 Lyngby BK       53         77   \n",
       "339            T. Arndal                AC Horsens       52         65   \n",
       "340        A. Skov Olsen           FC Nordsjælland       53         66   \n",
       "341              I. Esen              FC Helsingør       50         69   \n",
       "342             A. Junge              FC Helsingør       50         56   \n",
       "343         A. Ammitzbøl                 Aarhus GF       55         64   \n",
       "344           M. Iversen                Aalborg BK       50         62   \n",
       "345          F. Nørgaard                AC Horsens       50         62   \n",
       "346             O. Drost                AC Horsens       51         58   \n",
       "\n",
       "                            Probabilities [0,1]  Prediction  \n",
       "in                                                           \n",
       "1     [5.388461900013297e-07, 0.99999946115381]           1  \n",
       "2    [0.007575822103182195, 0.9924241778968178]           1  \n",
       "3    [0.019318008930466646, 0.9806819910695334]           1  \n",
       "4     [0.11280435736931493, 0.8871956426306851]           1  \n",
       "5     [0.11298621598651326, 0.8870137840134867]           1  \n",
       "6     [0.12739959095157738, 0.8726004090484226]           1  \n",
       "7      [0.12873877286188196, 0.871261227138118]           1  \n",
       "8     [0.14940022803762587, 0.8505997719623741]           1  \n",
       "9     [0.18351302995208163, 0.8164869700479184]           1  \n",
       "10     [0.2368926788786293, 0.7631073211213707]           1  \n",
       "11     [0.2618494537176186, 0.7381505462823814]           1  \n",
       "12    [0.26223823397924184, 0.7377617660207582]           1  \n",
       "13    [0.28315472491562754, 0.7168452750843725]           1  \n",
       "14    [0.29891570147357927, 0.7010842985264207]           1  \n",
       "15     [0.3046361301975674, 0.6953638698024326]           1  \n",
       "16    [0.33660305911678023, 0.6633969408832198]           1  \n",
       "17     [0.3580321213127231, 0.6419678786872769]           1  \n",
       "18     [0.3816024029002437, 0.6183975970997563]           1  \n",
       "19    [0.38602869857144706, 0.6139713014285529]           1  \n",
       "20     [0.39662247106067805, 0.603377528939322]           1  \n",
       "21    [0.40187645953220963, 0.5981235404677904]           1  \n",
       "22     [0.41556925736568595, 0.584430742634314]           1  \n",
       "23    [0.44519006960301777, 0.5548099303969822]           1  \n",
       "24     [0.4505220730153132, 0.5494779269846868]           1  \n",
       "25     [0.4664448042390671, 0.5335551957609329]           1  \n",
       "26    [0.46986351815565486, 0.5301364818443451]           1  \n",
       "27     [0.4720600954728654, 0.5279399045271346]           1  \n",
       "28     [0.4764762934406618, 0.5235237065593382]           1  \n",
       "29     [0.5030345684837422, 0.4969654315162578]           0  \n",
       "30     [0.5134409479825994, 0.4865590520174005]           0  \n",
       "..                                          ...         ...  \n",
       "317   [0.8625814352270562, 0.13741856477294384]           0  \n",
       "318    [0.8626979421100084, 0.1373020578899916]           0  \n",
       "319   [0.8629008591757475, 0.13709914082425248]           0  \n",
       "320   [0.8630052458651614, 0.13699475413483866]           0  \n",
       "321   [0.8631458104161922, 0.13685418958380774]           0  \n",
       "322   [0.8631559792851411, 0.13684402071485893]           0  \n",
       "323   [0.8631778104050425, 0.13682218959495746]           0  \n",
       "324   [0.8632433827494401, 0.13675661725055985]           0  \n",
       "325    [0.8633161887940434, 0.1366838112059566]           0  \n",
       "326   [0.8633597807745168, 0.13664021922548314]           0  \n",
       "327   [0.8634947901237844, 0.13650520987621562]           0  \n",
       "328   [0.8635776526619943, 0.13642234733800573]           0  \n",
       "329      [0.863631608349973, 0.136368391650027]           0  \n",
       "330    [0.863655090826206, 0.13634490917379405]           0  \n",
       "331    [0.8636634854143466, 0.1363365145856534]           0  \n",
       "332    [0.863670899239281, 0.13632910076071908]           0  \n",
       "333     [0.863699809749156, 0.1363001902508441]           0  \n",
       "334    [0.863713789957608, 0.13628621004239205]           0  \n",
       "335    [0.8637472589393791, 0.1362527410606209]           0  \n",
       "336   [0.8638556105106039, 0.13614438948939606]           0  \n",
       "337    [0.8638752418070074, 0.1361247581929926]           0  \n",
       "338   [0.8638764271832241, 0.13612357281677587]           0  \n",
       "339    [0.8639034719250919, 0.1360965280749081]           0  \n",
       "340    [0.8639269492991564, 0.1360730507008437]           0  \n",
       "341    [0.8640201455959649, 0.1359798544040351]           0  \n",
       "342   [0.8642539167301875, 0.13574608326981247]           0  \n",
       "343    [0.8643961589860119, 0.1356038410139881]           0  \n",
       "344   [0.8655936760747065, 0.13440632392529353]           0  \n",
       "345      [0.865847340593608, 0.134152659406392]           0  \n",
       "346   [0.8658547046254484, 0.13414529537455153]           0  \n",
       "\n",
       "[346 rows x 6 columns]"
      ]
     },
     "execution_count": 20,
     "metadata": {},
     "output_type": "execute_result"
    }
   ],
   "source": [
    "dansker_set.loc[:,'pred=1'] = dansker_set['Probabilities [0,1]'].map(lambda x: x[1]).sort_values(ascending=False)\n",
    "dansker_sorted = dansker_set.sort_values('pred=1', ascending=False)\n",
    "dansker_sorted = dansker_sorted[['Name', 'Club', 'Overall', 'Potential', 'Probabilities [0,1]', 'Prediction']]\n",
    "dansker_sorted.loc[:,'in'] = np.arange(1, len(dansker_set)+1)\n",
    "dansker_sorted.set_index('in')"
   ]
  },
  {
   "cell_type": "markdown",
   "metadata": {},
   "source": [
    "Efter flot hattrick mod Irland, kan man vidst ikke være i tvivl om Kong Christian tager pladsen på tronen\n",
    "<img src='kongen.png',\n",
    "    align=\"center\"\n",
    "    width=\"40%\"\n",
    "    alt=\"kongen\">"
   ]
  },
  {
   "cell_type": "markdown",
   "metadata": {},
   "source": [
    "Men hvilke danske spillere spiller egentlig for topklubber, og hvordan er de rangeret i forhold til vores model?"
   ]
  },
  {
   "cell_type": "code",
   "execution_count": 21,
   "metadata": {},
   "outputs": [
    {
     "data": {
      "text/html": [
       "<div>\n",
       "<table border=\"1\" class=\"dataframe\">\n",
       "  <thead>\n",
       "    <tr style=\"text-align: right;\">\n",
       "      <th></th>\n",
       "      <th>Name</th>\n",
       "      <th>Club</th>\n",
       "      <th>Overall</th>\n",
       "      <th>Potential</th>\n",
       "      <th>Probabilities [0,1]</th>\n",
       "      <th>Prediction</th>\n",
       "    </tr>\n",
       "    <tr>\n",
       "      <th>in</th>\n",
       "      <th></th>\n",
       "      <th></th>\n",
       "      <th></th>\n",
       "      <th></th>\n",
       "      <th></th>\n",
       "      <th></th>\n",
       "    </tr>\n",
       "  </thead>\n",
       "  <tbody>\n",
       "    <tr>\n",
       "      <th>2</th>\n",
       "      <td>A. Christensen</td>\n",
       "      <td>Chelsea</td>\n",
       "      <td>81</td>\n",
       "      <td>89</td>\n",
       "      <td>[0.007575822103182195, 0.9924241778968178]</td>\n",
       "      <td>1</td>\n",
       "    </tr>\n",
       "    <tr>\n",
       "      <th>7</th>\n",
       "      <td>S. Kjær</td>\n",
       "      <td>Sevilla FC</td>\n",
       "      <td>81</td>\n",
       "      <td>82</td>\n",
       "      <td>[0.12873877286188196, 0.871261227138118]</td>\n",
       "      <td>1</td>\n",
       "    </tr>\n",
       "    <tr>\n",
       "      <th>17</th>\n",
       "      <td>M. Krohn-Dehli</td>\n",
       "      <td>Sevilla FC</td>\n",
       "      <td>79</td>\n",
       "      <td>79</td>\n",
       "      <td>[0.3580321213127231, 0.6419678786872769]</td>\n",
       "      <td>1</td>\n",
       "    </tr>\n",
       "    <tr>\n",
       "      <th>200</th>\n",
       "      <td>J. Larsen</td>\n",
       "      <td>Borussia Dortmund</td>\n",
       "      <td>62</td>\n",
       "      <td>79</td>\n",
       "      <td>[0.8222710114151601, 0.17772898858483982]</td>\n",
       "      <td>0</td>\n",
       "    </tr>\n",
       "    <tr>\n",
       "      <th>223</th>\n",
       "      <td>R. Corlu</td>\n",
       "      <td>Roma</td>\n",
       "      <td>58</td>\n",
       "      <td>69</td>\n",
       "      <td>[0.8342589108405751, 0.16574108915942493]</td>\n",
       "      <td>0</td>\n",
       "    </tr>\n",
       "  </tbody>\n",
       "</table>\n",
       "</div>"
      ],
      "text/plain": [
       "               Name               Club  Overall  Potential  \\\n",
       "in                                                           \n",
       "2    A. Christensen            Chelsea       81         89   \n",
       "7           S. Kjær         Sevilla FC       81         82   \n",
       "17   M. Krohn-Dehli         Sevilla FC       79         79   \n",
       "200       J. Larsen  Borussia Dortmund       62         79   \n",
       "223        R. Corlu               Roma       58         69   \n",
       "\n",
       "                            Probabilities [0,1]  Prediction  \n",
       "in                                                           \n",
       "2    [0.007575822103182195, 0.9924241778968178]           1  \n",
       "7      [0.12873877286188196, 0.871261227138118]           1  \n",
       "17     [0.3580321213127231, 0.6419678786872769]           1  \n",
       "200   [0.8222710114151601, 0.17772898858483982]           0  \n",
       "223   [0.8342589108405751, 0.16574108915942493]           0  "
      ]
     },
     "execution_count": 21,
     "metadata": {},
     "output_type": "execute_result"
    }
   ],
   "source": [
    "dansker_sorted[dansker_sorted['Club'].isin(top_clubs)].set_index('in')"
   ]
  },
  {
   "cell_type": "markdown",
   "metadata": {},
   "source": [
    "Man kan undre sig over hvad Jacob Larsen laver hos stopklubben Borussia Dortmund, men en hurtig googling viser, at han simpelthen blev headhuntet til klubben som 16-årig."
   ]
  },
  {
   "cell_type": "markdown",
   "metadata": {},
   "source": [
    "Og så er der jo nok nogen, der vil spørger... Hvad med Bendtner?\n",
    "Så han skal da også lige have en plads i vores analyse:"
   ]
  },
  {
   "cell_type": "code",
   "execution_count": 22,
   "metadata": {
    "scrolled": true
   },
   "outputs": [
    {
     "data": {
      "text/html": [
       "<div>\n",
       "<table border=\"1\" class=\"dataframe\">\n",
       "  <thead>\n",
       "    <tr style=\"text-align: right;\">\n",
       "      <th></th>\n",
       "      <th>Name</th>\n",
       "      <th>Club</th>\n",
       "      <th>Overall</th>\n",
       "      <th>Potential</th>\n",
       "      <th>Probabilities [0,1]</th>\n",
       "      <th>Prediction</th>\n",
       "    </tr>\n",
       "    <tr>\n",
       "      <th>in</th>\n",
       "      <th></th>\n",
       "      <th></th>\n",
       "      <th></th>\n",
       "      <th></th>\n",
       "      <th></th>\n",
       "      <th></th>\n",
       "    </tr>\n",
       "  </thead>\n",
       "  <tbody>\n",
       "    <tr>\n",
       "      <th>40</th>\n",
       "      <td>N. Bendtner</td>\n",
       "      <td>Rosenborg BK</td>\n",
       "      <td>73</td>\n",
       "      <td>73</td>\n",
       "      <td>[0.5870555783461053, 0.4129444216538947]</td>\n",
       "      <td>0</td>\n",
       "    </tr>\n",
       "  </tbody>\n",
       "</table>\n",
       "</div>"
      ],
      "text/plain": [
       "           Name          Club  Overall  Potential  \\\n",
       "in                                                  \n",
       "40  N. Bendtner  Rosenborg BK       73         73   \n",
       "\n",
       "                         Probabilities [0,1]  Prediction  \n",
       "in                                                        \n",
       "40  [0.5870555783461053, 0.4129444216538947]           0  "
      ]
     },
     "execution_count": 22,
     "metadata": {},
     "output_type": "execute_result"
    }
   ],
   "source": [
    "dansker_sorted.loc[dansker_sorted.Name == 'N. Bendtner'].set_index('in')"
   ]
  },
  {
   "cell_type": "markdown",
   "metadata": {},
   "source": [
    "Vi kan også kigge på ham i det store billede. Prøv evt. at lege lidt rundt med forskellige spillere"
   ]
  },
  {
   "cell_type": "code",
   "execution_count": 23,
   "metadata": {},
   "outputs": [
    {
     "data": {
      "text/html": [
       "<div>\n",
       "<table border=\"1\" class=\"dataframe\">\n",
       "  <thead>\n",
       "    <tr style=\"text-align: right;\">\n",
       "      <th></th>\n",
       "      <th>Name</th>\n",
       "      <th>Age</th>\n",
       "      <th>Nationality</th>\n",
       "      <th>Overall</th>\n",
       "      <th>Potential</th>\n",
       "      <th>Club</th>\n",
       "      <th>Value</th>\n",
       "      <th>Wage</th>\n",
       "      <th>Special</th>\n",
       "      <th>Acceleration</th>\n",
       "      <th>...</th>\n",
       "      <th>RB</th>\n",
       "      <th>RCB</th>\n",
       "      <th>RCM</th>\n",
       "      <th>RDM</th>\n",
       "      <th>RF</th>\n",
       "      <th>RM</th>\n",
       "      <th>RS</th>\n",
       "      <th>RW</th>\n",
       "      <th>RWB</th>\n",
       "      <th>ST</th>\n",
       "    </tr>\n",
       "  </thead>\n",
       "  <tbody>\n",
       "    <tr>\n",
       "      <th>2697</th>\n",
       "      <td>N. Bendtner</td>\n",
       "      <td>29</td>\n",
       "      <td>Denmark</td>\n",
       "      <td>73</td>\n",
       "      <td>73</td>\n",
       "      <td>Rosenborg BK</td>\n",
       "      <td>4000000.0</td>\n",
       "      <td>10000.0</td>\n",
       "      <td>1790</td>\n",
       "      <td>70.0</td>\n",
       "      <td>...</td>\n",
       "      <td>51.0</td>\n",
       "      <td>51.0</td>\n",
       "      <td>65.0</td>\n",
       "      <td>54.0</td>\n",
       "      <td>70.0</td>\n",
       "      <td>69.0</td>\n",
       "      <td>72.0</td>\n",
       "      <td>69.0</td>\n",
       "      <td>53.0</td>\n",
       "      <td>72.0</td>\n",
       "    </tr>\n",
       "  </tbody>\n",
       "</table>\n",
       "<p>1 rows × 71 columns</p>\n",
       "</div>"
      ],
      "text/plain": [
       "             Name  Age Nationality  Overall  Potential          Club  \\\n",
       "2697  N. Bendtner   29     Denmark       73         73  Rosenborg BK   \n",
       "\n",
       "          Value     Wage  Special  Acceleration  ...     RB   RCB   RCM   RDM  \\\n",
       "2697  4000000.0  10000.0     1790          70.0  ...   51.0  51.0  65.0  54.0   \n",
       "\n",
       "        RF    RM    RS    RW   RWB    ST  \n",
       "2697  70.0  69.0  72.0  69.0  53.0  72.0  \n",
       "\n",
       "[1 rows x 71 columns]"
      ]
     },
     "execution_count": 23,
     "metadata": {},
     "output_type": "execute_result"
    }
   ],
   "source": [
    "df.loc[df.Name == 'N. Bendtner']"
   ]
  },
  {
   "cell_type": "markdown",
   "metadata": {},
   "source": [
    "# Forslag til opgaver? \n",
    "\n",
    "Kan de måske kigge rundt i forskellige plots?\n",
    "Lidt længere nede ses at der er MEGET stor lønforskel på DK's bedste og anden bedste spiller - på trods af at det kun er nr. 2 der spiller for \"en topklub\""
   ]
  },
  {
   "cell_type": "code",
   "execution_count": 31,
   "metadata": {},
   "outputs": [
    {
     "data": {
      "image/png": "[encoded data removed]",
      "text/plain": [
       "<matplotlib.figure.Figure at 0x7f3479dcb940>"
      ]
     },
     "metadata": {},
     "output_type": "display_data"
    }
   ],
   "source": [
    "plt.plot(df.Overall, df.Wage, '*')\n",
    "\n",
    "plt.xlabel('Overall performance')\n",
    "plt.ylabel('Wage')\n",
    "plt.title('Wage for Performance')\n",
    "\n",
    "plt.show()"
   ]
  },
  {
   "cell_type": "code",
   "execution_count": 33,
   "metadata": {},
   "outputs": [
    {
     "data": {
      "text/html": [
       "<div>\n",
       "<table border=\"1\" class=\"dataframe\">\n",
       "  <thead>\n",
       "    <tr style=\"text-align: right;\">\n",
       "      <th></th>\n",
       "      <th>Name</th>\n",
       "      <th>Age</th>\n",
       "      <th>Nationality</th>\n",
       "      <th>Overall</th>\n",
       "      <th>Potential</th>\n",
       "      <th>Club</th>\n",
       "      <th>Value</th>\n",
       "      <th>Wage</th>\n",
       "      <th>Special</th>\n",
       "      <th>Acceleration</th>\n",
       "      <th>...</th>\n",
       "      <th>RB</th>\n",
       "      <th>RCB</th>\n",
       "      <th>RCM</th>\n",
       "      <th>RDM</th>\n",
       "      <th>RF</th>\n",
       "      <th>RM</th>\n",
       "      <th>RS</th>\n",
       "      <th>RW</th>\n",
       "      <th>RWB</th>\n",
       "      <th>ST</th>\n",
       "    </tr>\n",
       "  </thead>\n",
       "  <tbody>\n",
       "    <tr>\n",
       "      <th>0</th>\n",
       "      <td>Cristiano Ronaldo</td>\n",
       "      <td>32</td>\n",
       "      <td>Portugal</td>\n",
       "      <td>94</td>\n",
       "      <td>94</td>\n",
       "      <td>Real Madrid CF</td>\n",
       "      <td>95500000.0</td>\n",
       "      <td>565000.0</td>\n",
       "      <td>2228</td>\n",
       "      <td>89.0</td>\n",
       "      <td>...</td>\n",
       "      <td>61.0</td>\n",
       "      <td>53.0</td>\n",
       "      <td>82.0</td>\n",
       "      <td>62.0</td>\n",
       "      <td>91.0</td>\n",
       "      <td>89.0</td>\n",
       "      <td>92.0</td>\n",
       "      <td>91.0</td>\n",
       "      <td>66.0</td>\n",
       "      <td>92.0</td>\n",
       "    </tr>\n",
       "    <tr>\n",
       "      <th>1</th>\n",
       "      <td>L. Messi</td>\n",
       "      <td>30</td>\n",
       "      <td>Argentina</td>\n",
       "      <td>93</td>\n",
       "      <td>93</td>\n",
       "      <td>FC Barcelona</td>\n",
       "      <td>105000000.0</td>\n",
       "      <td>565000.0</td>\n",
       "      <td>2154</td>\n",
       "      <td>92.0</td>\n",
       "      <td>...</td>\n",
       "      <td>57.0</td>\n",
       "      <td>45.0</td>\n",
       "      <td>84.0</td>\n",
       "      <td>59.0</td>\n",
       "      <td>92.0</td>\n",
       "      <td>90.0</td>\n",
       "      <td>88.0</td>\n",
       "      <td>91.0</td>\n",
       "      <td>62.0</td>\n",
       "      <td>88.0</td>\n",
       "    </tr>\n",
       "    <tr>\n",
       "      <th>3</th>\n",
       "      <td>L. Suárez</td>\n",
       "      <td>30</td>\n",
       "      <td>Uruguay</td>\n",
       "      <td>92</td>\n",
       "      <td>92</td>\n",
       "      <td>FC Barcelona</td>\n",
       "      <td>97000000.0</td>\n",
       "      <td>510000.0</td>\n",
       "      <td>2291</td>\n",
       "      <td>88.0</td>\n",
       "      <td>...</td>\n",
       "      <td>64.0</td>\n",
       "      <td>58.0</td>\n",
       "      <td>80.0</td>\n",
       "      <td>65.0</td>\n",
       "      <td>88.0</td>\n",
       "      <td>85.0</td>\n",
       "      <td>88.0</td>\n",
       "      <td>87.0</td>\n",
       "      <td>68.0</td>\n",
       "      <td>88.0</td>\n",
       "    </tr>\n",
       "  </tbody>\n",
       "</table>\n",
       "<p>3 rows × 71 columns</p>\n",
       "</div>"
      ],
      "text/plain": [
       "                Name  Age Nationality  Overall  Potential            Club  \\\n",
       "0  Cristiano Ronaldo   32    Portugal       94         94  Real Madrid CF   \n",
       "1           L. Messi   30   Argentina       93         93    FC Barcelona   \n",
       "3          L. Suárez   30     Uruguay       92         92    FC Barcelona   \n",
       "\n",
       "         Value      Wage  Special  Acceleration  ...     RB   RCB   RCM   RDM  \\\n",
       "0   95500000.0  565000.0     2228          89.0  ...   61.0  53.0  82.0  62.0   \n",
       "1  105000000.0  565000.0     2154          92.0  ...   57.0  45.0  84.0  59.0   \n",
       "3   97000000.0  510000.0     2291          88.0  ...   64.0  58.0  80.0  65.0   \n",
       "\n",
       "     RF    RM    RS    RW   RWB    ST  \n",
       "0  91.0  89.0  92.0  91.0  66.0  92.0  \n",
       "1  92.0  90.0  88.0  91.0  62.0  88.0  \n",
       "3  88.0  85.0  88.0  87.0  68.0  88.0  \n",
       "\n",
       "[3 rows x 71 columns]"
      ]
     },
     "execution_count": 33,
     "metadata": {},
     "output_type": "execute_result"
    }
   ],
   "source": [
    "df[df.Wage > 500000]"
   ]
  },
  {
   "cell_type": "code",
   "execution_count": 36,
   "metadata": {},
   "outputs": [
    {
     "data": {
      "image/png": "[encoded data removed]",
      "text/plain": [
       "<matplotlib.figure.Figure at 0x7f347b830c50>"
      ]
     },
     "metadata": {},
     "output_type": "display_data"
    }
   ],
   "source": [
    "plt.plot(dansker_set.Overall, dansker_set.Wage, '*')\n",
    "\n",
    "plt.xlabel('Overall performance')\n",
    "plt.ylabel('Wage')\n",
    "plt.title('Danish players: Wage for Performance')\n",
    "\n",
    "plt.show()"
   ]
  },
  {
   "cell_type": "code",
   "execution_count": 55,
   "metadata": {},
   "outputs": [
    {
     "data": {
      "text/html": [
       "<div>\n",
       "<table border=\"1\" class=\"dataframe\">\n",
       "  <thead>\n",
       "    <tr style=\"text-align: right;\">\n",
       "      <th></th>\n",
       "      <th>Name</th>\n",
       "      <th>Age</th>\n",
       "      <th>Nationality</th>\n",
       "      <th>Overall</th>\n",
       "      <th>Potential</th>\n",
       "      <th>Club</th>\n",
       "      <th>Value</th>\n",
       "      <th>Wage</th>\n",
       "      <th>Special</th>\n",
       "      <th>Acceleration</th>\n",
       "      <th>...</th>\n",
       "      <th>RDM</th>\n",
       "      <th>RF</th>\n",
       "      <th>RM</th>\n",
       "      <th>RS</th>\n",
       "      <th>RW</th>\n",
       "      <th>RWB</th>\n",
       "      <th>ST</th>\n",
       "      <th>Probabilities [0,1]</th>\n",
       "      <th>Prediction</th>\n",
       "      <th>pred=1</th>\n",
       "    </tr>\n",
       "  </thead>\n",
       "  <tbody>\n",
       "    <tr>\n",
       "      <th>36</th>\n",
       "      <td>C. Eriksen</td>\n",
       "      <td>25</td>\n",
       "      <td>Denmark</td>\n",
       "      <td>87</td>\n",
       "      <td>91</td>\n",
       "      <td>Tottenham Hotspur</td>\n",
       "      <td>65000000.0</td>\n",
       "      <td>165000.0</td>\n",
       "      <td>2064</td>\n",
       "      <td>77.0</td>\n",
       "      <td>...</td>\n",
       "      <td>68.0</td>\n",
       "      <td>82.0</td>\n",
       "      <td>84.0</td>\n",
       "      <td>77.0</td>\n",
       "      <td>83.0</td>\n",
       "      <td>69.0</td>\n",
       "      <td>77.0</td>\n",
       "      <td>[5.388461900013297e-07, 0.99999946115381]</td>\n",
       "      <td>1</td>\n",
       "      <td>0.999999</td>\n",
       "    </tr>\n",
       "    <tr>\n",
       "      <th>309</th>\n",
       "      <td>A. Christensen</td>\n",
       "      <td>21</td>\n",
       "      <td>Denmark</td>\n",
       "      <td>81</td>\n",
       "      <td>89</td>\n",
       "      <td>Chelsea</td>\n",
       "      <td>23000000.0</td>\n",
       "      <td>86000.0</td>\n",
       "      <td>1720</td>\n",
       "      <td>70.0</td>\n",
       "      <td>...</td>\n",
       "      <td>77.0</td>\n",
       "      <td>58.0</td>\n",
       "      <td>64.0</td>\n",
       "      <td>55.0</td>\n",
       "      <td>60.0</td>\n",
       "      <td>74.0</td>\n",
       "      <td>55.0</td>\n",
       "      <td>[0.007575822103182195, 0.9924241778968178]</td>\n",
       "      <td>1</td>\n",
       "      <td>0.992424</td>\n",
       "    </tr>\n",
       "  </tbody>\n",
       "</table>\n",
       "<p>2 rows × 74 columns</p>\n",
       "</div>"
      ],
      "text/plain": [
       "               Name  Age Nationality  Overall  Potential               Club  \\\n",
       "36       C. Eriksen   25     Denmark       87         91  Tottenham Hotspur   \n",
       "309  A. Christensen   21     Denmark       81         89            Chelsea   \n",
       "\n",
       "          Value      Wage  Special  Acceleration    ...      RDM    RF    RM  \\\n",
       "36   65000000.0  165000.0     2064          77.0    ...     68.0  82.0  84.0   \n",
       "309  23000000.0   86000.0     1720          70.0    ...     77.0  58.0  64.0   \n",
       "\n",
       "       RS    RW   RWB    ST                         Probabilities [0,1]  \\\n",
       "36   77.0  83.0  69.0  77.0   [5.388461900013297e-07, 0.99999946115381]   \n",
       "309  55.0  60.0  74.0  55.0  [0.007575822103182195, 0.9924241778968178]   \n",
       "\n",
       "     Prediction    pred=1  \n",
       "36            1  0.999999  \n",
       "309           1  0.992424  \n",
       "\n",
       "[2 rows x 74 columns]"
      ]
     },
     "execution_count": 55,
     "metadata": {},
     "output_type": "execute_result"
    }
   ],
   "source": [
    "dansker_set[dansker_set['Wage'] > 75000]"
   ]
  },
  {
   "cell_type": "markdown",
   "metadata": {},
   "source": [
    "Eller kigge på om data er normalt fordelt i forhold til forskellige kolonner?"
   ]
  },
  {
   "cell_type": "code",
   "execution_count": 54,
   "metadata": {
    "scrolled": true
   },
   "outputs": [
    {
     "data": {
      "image/png": "[encoded data removed]",
      "text/plain": [
       "<matplotlib.figure.Figure at 0x7f347b760128>"
      ]
     },
     "metadata": {},
     "output_type": "display_data"
    }
   ],
   "source": [
    "dansker_set.Overall.hist()\n",
    "plt.show()"
   ]
  },
  {
   "cell_type": "code",
   "execution_count": 53,
   "metadata": {},
   "outputs": [
    {
     "data": {
      "image/png": "[encoded data removed]",
      "text/plain": [
       "<matplotlib.figure.Figure at 0x7f347b574e48>"
      ]
     },
     "metadata": {},
     "output_type": "display_data"
    }
   ],
   "source": [
    "overall_set.Age.hist()\n",
    "plt.show()"
   ]
  },
  {
   "cell_type": "code",
   "execution_count": null,
   "metadata": {
    "collapsed": true
   },
   "outputs": [],
   "source": []
  }
 ],
 "metadata": {
  "kernelspec": {
   "display_name": "Python 3",
   "language": "python",
   "name": "python3"
  },
  "language_info": {
   "codemirror_mode": {
    "name": "ipython",
    "version": 3
   },
   "file_extension": ".py",
   "mimetype": "text/x-python",
   "name": "python",
   "nbconvert_exporter": "python",
   "pygments_lexer": "ipython3",
   "version": "3.5.2"
  }
 },
 "nbformat": 4,
 "nbformat_minor": 2
}
