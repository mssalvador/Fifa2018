{
 "cells": [
  {
   "cell_type": "markdown",
   "metadata": {},
   "source": [
    "# Teknisk Tirsdag: Unsupervised Learning\n",
    "\n",
    "Tillykke du er i anden uge af din ansættelse i den norske virksomhed, som operere med data science. Din leder var meget tilfreds med analysen fra sidste uge. Vedkommende mener at vi skal begynde at kigge lidt bredere på spillere.\n",
    "\n",
    "Vores kunder er interesseret i at undersøge hvordan forholdet mellem spillernes placeringer på banen er i forhold til deres fysiske egenskaber. I og med det gik så godt i sidste uge har vi fået ansvaret for at lave en analyse der viser dette.\n",
    "\n",
    "\n",
    "Opgaver\n",
    "====\n",
    "\n",
    "0. Diskutere hvorfor vi kan bruge clustering til at gruppere spillere.\n",
    "1. Isolere de kolonner som vi ønsker at basere analysen på.\n",
    "2. Første kørsel med KMeans, leg med antal af cluster\n",
    "3. Kør den forbedret version af problemet og med hyperparameterne optimering.\n",
    "4. Noget med at fortolke hvilke spillere der er outliers i deres spiller-gruppe... Kig på outliers, og brug forskellige outlier metrikker."
   ]
  },
  {
   "cell_type": "code",
   "execution_count": null,
   "metadata": {
    "collapsed": true
   },
   "outputs": [],
   "source": [
    "#PURE PYTHON!!!!\n",
    "import numpy as np\n",
    "import pandas as pd\n",
    "import matplotlib.pyplot as plt\n",
    "import seaborn as sb\n",
    "from sklearn import cluster"
   ]
  },
  {
   "cell_type": "markdown",
   "metadata": {},
   "source": [
    "### Import af sidste uges notebook til dagens øvelse\n",
    "Der er ingen grund til at lave dobbeltarbejde."
   ]
  },
  {
   "cell_type": "code",
   "execution_count": null,
   "metadata": {},
   "outputs": [],
   "source": [
    "# Run the datacleaning notebook to get all the variables\n",
    "%run 'Teknisk Tirsdag - Data Cleaning.ipynb'"
   ]
  },
  {
   "cell_type": "markdown",
   "metadata": {},
   "source": [
    "### Opgave 0: Hvorfor giver det mening at bruge clustering?\n",
    "Diskutere med andre, i 5 min, om hvorfor det kan være en god idé, at bruge clustering til at vise spillerpositioner. Hvilken viden kan vi få ud af det? Kan der være problemer med denne analyse og hvorfor?\n",
    "Kom gerne med eksempler på om vi kan overføre denne tankegang til det virkelige verden.\n",
    "\n",
    "__Vi tager en kort gennemgang af denne opgave, inden vi forsætter med resten.__"
   ]
  },
  {
   "cell_type": "markdown",
   "metadata": {},
   "source": [
    "### Opgave 1: Find vores feature kolonner.\n",
    "\n",
    "Som data scientist er det uundgåeligt, ikke at skulle få beskidte fingre og arbejde med noget kode.\n",
    "I denne øvelse vil vi bruge nogle af Python's funktioner til at finde hhv. det indeks hvor de fysiske attributter starter og slutter.\n",
    "*Bare rolig: Hvis alt andet fejler, kan vi også tælle os frem til løsningen :-)*\n",
    "\n",
    "\n",
    "__Lidt om Pandas dataframes__\n",
    "\n",
    "Et pandas dataframe har en attribut som indeholder en liste af kolonner. Man tilgår attributten som på mange andre kodesprog ved at bruge punktum efter objektes navn fx.\n",
    "    x.attribut.\n",
    "\n",
    "1. Først skal vi indeksere elementerne i den udtrukket liste. Der er mange veje til målet, dette er nok den [nemmeste](https://stackoverflow.com/questions/10777271/python-using-enumerate-inside-list-comprehension)\n",
    "\n",
    "2. Vores næste opgave er at finde de fysiske egenskaber; heldigvis ligger alle de fysiske egenskaber i rækkefølge, så vi har kun brug for den første og den sidste, da vi derefter kan udtrække dem alle.\n",
    " \n",
    "3. Nu skal resultatet fra den første og anden opgave kombineres. Udtræk indekset for hhv. start og slut kolonnen.\n",
    "\n",
    "\n",
    "__Tip:__\n",
    "Som i mange Objekt Orienteret Sporg findes der mange veje til målet. Dine bedste redskaber til at komme til målet er: Din sunde fornuft og [Google](https://www.google.dk)...\n",
    "\n",
    "Hvert element i vores liste tager formen: (indeks, kolonne_med_første_fysisk_egenskab), hvis vi kalder et element i listen for *x*, kan indeks f.eks. tilgås ved x[0].\n",
    "Et godt sted at starte er at bruge filter [*filter*](http://book.pythontips.com/en/latest/map_filter.html) metoden. "
   ]
  },
  {
   "cell_type": "code",
   "execution_count": null,
   "metadata": {
    "collapsed": true
   },
   "outputs": [],
   "source": [
    "# Vi bruger alle spillere i FIFAs katelog.\n",
    "attribute_df = df.copy()\n",
    "position_df = attribute_df[['Name','Preferred Positions', 'Age', 'Nationality']]"
   ]
  },
  {
   "cell_type": "code",
   "execution_count": null,
   "metadata": {
    "collapsed": true
   },
   "outputs": [],
   "source": [
    "attribute_df = attribute_df.set_index(['Name']);\n",
    "position_df = position_df.set_index('Name');"
   ]
  },
  {
   "cell_type": "code",
   "execution_count": null,
   "metadata": {},
   "outputs": [],
   "source": [
    "attribute_df.head()"
   ]
  },
  {
   "cell_type": "code",
   "execution_count": null,
   "metadata": {},
   "outputs": [],
   "source": [
    "position_df.head()"
   ]
  },
  {
   "cell_type": "code",
   "execution_count": null,
   "metadata": {},
   "outputs": [],
   "source": [
    "enumareted_cols =  None ### INDSÆT KODE HER ###\n",
    "\n",
    "# For vist liste, fjern havelågen:\n",
    "\n",
    "# enumareted_cols"
   ]
  },
  {
   "cell_type": "code",
   "execution_count": null,
   "metadata": {},
   "outputs": [],
   "source": [
    "attribute_start_col = None ### INDSÆT FØRSTE FYSISKE EGENSKAB ###\n",
    "print(attribute_start_col)"
   ]
  },
  {
   "cell_type": "code",
   "execution_count": null,
   "metadata": {},
   "outputs": [],
   "source": [
    "attribute_end_col = None ### INDSÆT FØRSTE FYSISKE EGENSKAB ###\n",
    "print(attribute_end_col)"
   ]
  },
  {
   "cell_type": "code",
   "execution_count": null,
   "metadata": {},
   "outputs": [],
   "source": [
    "# Vi ordner resten for dig.\n",
    "attribute_col = list(range(attribute_start_col, attribute_end_col+1, 1))"
   ]
  },
  {
   "cell_type": "code",
   "execution_count": null,
   "metadata": {
    "collapsed": true
   },
   "outputs": [],
   "source": [
    "attribute_df = attribute_df.iloc[:, attribute_col]"
   ]
  },
  {
   "cell_type": "markdown",
   "metadata": {},
   "source": [
    "#### Bekræft at vi har kolonnerne med"
   ]
  },
  {
   "cell_type": "code",
   "execution_count": null,
   "metadata": {},
   "outputs": [],
   "source": [
    "print(list(attribute_df.columns))"
   ]
  },
  {
   "cell_type": "code",
   "execution_count": null,
   "metadata": {},
   "outputs": [],
   "source": [
    "attribute_df.head()"
   ]
  },
  {
   "cell_type": "markdown",
   "metadata": {},
   "source": [
    "#### Indledende statistik\n",
    "For bedre at kunne forstå vores datasæt, giver det god menning at danne sig et overblik over data. Dette gøres ved *describe()* metoden, som laver opsummerende statistik på alle numeriske kolonner."
   ]
  },
  {
   "cell_type": "code",
   "execution_count": null,
   "metadata": {},
   "outputs": [],
   "source": [
    "attribute_df.describe()"
   ]
  },
  {
   "cell_type": "markdown",
   "metadata": {},
   "source": [
    "### Opgave 1 forsat:\n",
    "Brug 5 minutter på at diskutere hvad denne statistik betyder. Kan vi få noget vigtigt ud af denne tabel?"
   ]
  },
  {
   "cell_type": "markdown",
   "metadata": {},
   "source": [
    "#### Fortrukne positioner\n",
    "I vores datasæt findes der også fortrukne positioner. Dem har vi trukket ud til *postition_df*, som vises under denne celle."
   ]
  },
  {
   "cell_type": "code",
   "execution_count": null,
   "metadata": {
    "collapsed": true
   },
   "outputs": [],
   "source": [
    "position_df.loc[:,'position_list'] = np.array(position_df['Preferred Positions'].str.split(' ').tolist())"
   ]
  },
  {
   "cell_type": "code",
   "execution_count": null,
   "metadata": {
    "scrolled": true
   },
   "outputs": [],
   "source": [
    "position_df.head()"
   ]
  },
  {
   "cell_type": "markdown",
   "metadata": {},
   "source": [
    "###  Opgave 2: Første kørsel med KMeans\n",
    "\n",
    "Da alt databearbejdningen fandt sted i sidste uge, er der blot tilbage, at kører den egentlig analyse. Til dette har vi [KMeans](https://en.wikipedia.org/wiki/K-means_clustering). \n",
    "Denne algoritme bruger et afstandsmål som reference til at skabe grupperinger. Ud fra afstandsmålne kan vi skabe nogle cluster centre, *centriods*. \n",
    "\n",
    "- Din første opgave er at køre KMeans. Vælg et passende antal cluster, grupper, du synes kunne være relevant, som data skal deles i - man må gerne diskutere med andre om valg af antal clustre.\n",
    "\n",
    "Inden vi kommer så vidt, er vi nødt til at omforme positionerne således de kan sammenlignes med det resultat vi får fra vores Kmeans-algoritme."
   ]
  },
  {
   "cell_type": "code",
   "execution_count": null,
   "metadata": {
    "collapsed": true
   },
   "outputs": [],
   "source": [
    "from sklearn.preprocessing import MultiLabelBinarizer\n",
    "from scipy.spatial.distance import cdist\n",
    "mlb = MultiLabelBinarizer()\n",
    "labels = mlb.fit(position_df['position_list'])"
   ]
  },
  {
   "cell_type": "code",
   "execution_count": null,
   "metadata": {},
   "outputs": [],
   "source": [
    "real_position_list = [i for i in labels.classes_ if i != '']\n",
    "position_df[labels.classes_] = pd.DataFrame(labels.transform(position_df['position_list']), index=position_df.index, columns=labels.classes_)\n",
    "del position_df['']\n",
    "del position_df['position_list']\n",
    "position_df.head()"
   ]
  },
  {
   "cell_type": "markdown",
   "metadata": {},
   "source": [
    "Kør selve KMeans"
   ]
  },
  {
   "cell_type": "code",
   "execution_count": null,
   "metadata": {},
   "outputs": [],
   "source": [
    "def run_kmeans(attributes, lables, k = 20):\n",
    "    kmeans = cluster.KMeans(n_clusters= k, random_state= True)\n",
    "    model = kmeans.fit(attributes)\n",
    "    lables['prediction'] = model.predict(attributes)\n",
    "    \n",
    "    # Vi indsætter centerpunkterne i en midlertidig dataframe Z\n",
    "    Z = pd.DataFrame(model.cluster_centers_[lables['prediction']], columns=attributes.columns)\n",
    "    \n",
    "    #Beregner afstand\n",
    "    lables['distance'] = np.linalg.norm(attributes.as_matrix()-Z.as_matrix(), axis=1)\n",
    "    return lables\n",
    "\n",
    "n_clusters = None ### INDSÆT ANTAL CLUSTRE ###\n",
    "position_df = run_kmeans(attribute_df, position_df, n_clusters)"
   ]
  },
  {
   "cell_type": "code",
   "execution_count": null,
   "metadata": {},
   "outputs": [],
   "source": [
    "position_df.head()"
   ]
  },
  {
   "cell_type": "code",
   "execution_count": null,
   "metadata": {
    "collapsed": true
   },
   "outputs": [],
   "source": [
    "def print_cluster_til_position(df, columns, **kwargs):\n",
    "    \n",
    "    size = kwargs.get('figsize',(20, 10))\n",
    "    \n",
    "    grouped_by_position_df = df.groupby('prediction', as_index=True)[columns].sum()\n",
    "    f, ax = plt.subplots(1,1,figsize=size)\n",
    "    sb.set(style=\"ticks\")\n",
    "    sb.heatmap(grouped_by_position_df, annot=True, fmt=\"d\", linewidths=1., ax=ax)\n",
    "    ax.set_xlabel('Spillerpositioner', fontsize= 20)\n",
    "    ax.set_ylabel('Cluster', fontsize= 12, rotation='horizontal')\n",
    "    plt.show()"
   ]
  },
  {
   "cell_type": "code",
   "execution_count": null,
   "metadata": {},
   "outputs": [],
   "source": [
    "print_cluster_til_position(position_df,real_position_list)"
   ]
  },
  {
   "cell_type": "code",
   "execution_count": null,
   "metadata": {
    "scrolled": false
   },
   "outputs": [],
   "source": [
    "fig = plt.figure(figsize=(20, 10))\n",
    "ax = fig.gca()\n",
    "sb.violinplot(x='prediction', y='distance', data=position_df, orient='v', ax=ax)\n",
    "ax.set_xlabel('Cluster', fontsize= 18)\n",
    "ax.set_ylabel('Afstand', rotation='horizontal', fontsize= 20)\n",
    "plt.show()"
   ]
  },
  {
   "cell_type": "markdown",
   "metadata": {},
   "source": [
    "Den øverste figur viser fordelingen mellem hvad KMeans grupperer spillerne som (predictions opad y-aksen), i forhold til deres fortrukne spillerpositioner (ud af x-aksen). Den nederste figur viser fordelingen af afstande for hvert cluster. Der hvor hver \"violin\" buler ud viser hvor den største koncentration af punkter ligger.\n",
    "\n",
    "__Her er et billedet over positionerne med deres respektive forkortelser. Dette skulle gerne hjælpe i tabellen ovenfor.__ <br>\n",
    "\n",
    "__Diskutere hvad tallene i tabellen betyder. Giver dette resultat mening?__\n",
    "<img src=\"https://www.fifauteam.com/wp-content/uploads/2015/10/A768-1.jpg\"\n",
    "         align=\"center\"\n",
    "         width=\"100%\">\n",
    "         \n",
    "         \n",
    "### Opgave 3: \n",
    "Første forsøg med at køre KMeans var ikke så sucessfuldt som håbet. \n",
    "Nogle af de fejlkilder som er i eksemplet er at flere spillere har mange fortrukne positioner; mange af disse positioner er tæt på hinanden f.eks. LWB og LB.\n",
    "\n",
    "Generelt ses det, at vi har variationer i positioner med 3-bogstavskombinationer, dette kunne vi rette op på.\n",
    "En anden fejlkilde er at vi tager rådata ind. Dette kan ødelægge vores analyse, ved f.eks. at indfører gigantiske afstande i visse clustre. Normalt fortages der en [standardisering](https://en.wikipedia.org/wiki/Feature_scaling) af ens data. "
   ]
  },
  {
   "cell_type": "code",
   "execution_count": null,
   "metadata": {
    "collapsed": true
   },
   "outputs": [],
   "source": [
    "from sklearn.preprocessing import scale"
   ]
  },
  {
   "cell_type": "markdown",
   "metadata": {},
   "source": [
    "### 3.1 Omdan positionskoder\n",
    "Denne opgave er lidt banal, men brug den logiske operator som gør at vi kan sætte to kolonner sammen. Du har følgende valgmuligheder: *and: & og or: |* "
   ]
  },
  {
   "cell_type": "code",
   "execution_count": null,
   "metadata": {},
   "outputs": [],
   "source": [
    "simplied_position_df =  position_df.copy()\n",
    "del simplied_position_df['prediction']\n",
    "# Samler CAM og CDM til CM\n",
    "simplied_position_df['CM'] = (simplied_position_df['CAM']  &# INDSÆT BINÆR OPERATOR\n",
    "                              simplied_position_df['CM']  &# INDSÆT BINÆR OPERATOR\n",
    "                              simplied_position_df['CDM']\n",
    "                             )\n",
    "del simplied_position_df['CAM']\n",
    "del simplied_position_df['CDM']\n",
    "\n",
    "simplied_position_df['RB'] = (simplied_position_df['RB']  &# INDSÆT BINÆR OPERATOR\n",
    "                              simplied_position_df['RWB'])\n",
    "simplied_position_df['LB'] = (simplied_position_df['LB']  &# INDSÆT BINÆR OPERATOR\n",
    "                              simplied_position_df['LWB'])\n",
    "del simplied_position_df['RWB']\n",
    "del simplied_position_df['LWB']\n",
    "\n",
    "simplied_position_df.head()"
   ]
  },
  {
   "cell_type": "markdown",
   "metadata": {},
   "source": [
    "Det ses nu at vi har kun 2-bogstavskoder, og derved har vi simplificeret vores problem meget."
   ]
  },
  {
   "cell_type": "markdown",
   "metadata": {},
   "source": [
    "### Skalering af data\n",
    "Det næste vi kan gøre er at skalere vores træningssæt for at uligne store afstande i mellem datapunkter."
   ]
  },
  {
   "cell_type": "code",
   "execution_count": null,
   "metadata": {},
   "outputs": [],
   "source": [
    "attribute_df.head()"
   ]
  },
  {
   "cell_type": "code",
   "execution_count": null,
   "metadata": {},
   "outputs": [],
   "source": [
    "scaled_attributes_df = pd.DataFrame(\n",
    "    scale(attribute_df),\n",
    "    columns=attribute_df.columns,\n",
    "    index=attribute_df.index\n",
    ")\n",
    "scaled_attributes_df.head()"
   ]
  },
  {
   "cell_type": "markdown",
   "metadata": {},
   "source": [
    "For at teste om gennemsnittet er 0 og standardafvigelsen er 1.0 kan vi igen bruge *describe()*"
   ]
  },
  {
   "cell_type": "code",
   "execution_count": null,
   "metadata": {},
   "outputs": [],
   "source": [
    "scaled_attributes_df.describe()"
   ]
  },
  {
   "cell_type": "markdown",
   "metadata": {},
   "source": [
    "Det ser jo fornuftigt ud"
   ]
  },
  {
   "cell_type": "markdown",
   "metadata": {},
   "source": [
    "### Opgave 3.2: Hyperparameter optimering - Elbow method\n",
    "<img src='albue.jpg'\n",
    "     align='center'\n",
    "     height=20%>\n",
    "\n",
    "\n",
    "Den forrige analyse var ikke særlig tilfredsstillende - Vi havde ingen idé hvilket antal clusters vi skulle bruge. \n",
    "\n",
    "Som data scientist har vi nogle værktøjer, som vi kan bruge til at træffe en beslutning på et mere oplysende grundlag.  \n",
    "Den mest intuitive metode er at undersøge hvor god Kmeans er til at cluster data. KMeans outputter, foruden grupperingerne, også et mål for hvor god modellen er. Kmeans basere dette mål på kvadreret afstand fra alle datapunkter til deres respektive cluster-centrum. \n",
    "Dvs. detso lavere en værdi, desto tættere ligger datapunkterne på centrum, og derved er modellen mere forklarende. \n",
    "\n",
    "Ved at køre flere KMeans, med forskellig antal clusters kan man få et billedet af hvor godt modellen udvikler sig. Det man som data scientist gør, er at kigge efter et knæk i grafen, eller den såkaldte albue, hvor en øgelse af antal cluster ikke påvirker målet i så høj grad.\n",
    "\n",
    "__Undersøg nedenstående graf, og diskutere hvilket antal af cluster I ville bruge i den nye analyse. __\n",
    "__ Giver det mere mening nu?__"
   ]
  },
  {
   "cell_type": "code",
   "execution_count": null,
   "metadata": {
    "collapsed": true
   },
   "outputs": [],
   "source": [
    "iterations = 60\n",
    "r = range(5, iterations+5, 5)\n",
    "km = [cluster.KMeans(n_clusters=i) for i in r]\n",
    "score = [i.fit(scaled_attributes_df).score(scaled_attributes_df) for i in km]"
   ]
  },
  {
   "cell_type": "code",
   "execution_count": null,
   "metadata": {},
   "outputs": [],
   "source": [
    "fig = plt.figure(figsize=(20, 10))\n",
    "ax = fig.gca()\n",
    "ax.grid(True, axis='x')\n",
    "plt.plot(np.array(r), -1*np.array(score), 'ro')\n",
    "plt.xticks(range(5, iterations+5, 5))\n",
    "plt.xlabel('Antal clustre', fontsize= 20)\n",
    "plt.ylabel('z', rotation= 'horizontal', fontsize= 20)\n",
    "plt.title('Værdien af hvor godt hver Kmeans klarer sig')\n",
    "plt.show()"
   ]
  },
  {
   "cell_type": "markdown",
   "metadata": {},
   "source": [
    "Det er tydeligt at se, at Elbow-metoden bare vil gå efter en lavere *z*-score. Dette er også menningen, men håbet var at vi i denne analyse ville se nogle *plateau'er*, gerne i den lave ende af antal clustre.  \n",
    "\n",
    "På trods af analysen mangler, skal der vælges et antal clustre."
   ]
  },
  {
   "cell_type": "code",
   "execution_count": null,
   "metadata": {},
   "outputs": [],
   "source": [
    "n_clusters = None ### INDSÆT ANTAL CLUSTRE ###\n",
    "simplied_position_df = run_kmeans(scaled_attributes_df, simplied_position_df, n_clusters)\n",
    "simplied_position_df.head()"
   ]
  },
  {
   "cell_type": "code",
   "execution_count": null,
   "metadata": {},
   "outputs": [],
   "source": [
    "positions_list = \"CB CF CM GK LB LM LW RB RM RW ST\".split(' ')\n",
    "print_cluster_til_position(simplied_position_df, positions_list)"
   ]
  },
  {
   "cell_type": "markdown",
   "metadata": {},
   "source": [
    "__Giver dit nye resultat mere mening? Hvordan fordeler de sig?__\n",
    "\n",
    "### Entropi \n",
    "Som en lidt mere advanceret metode til at validere om ens model gør det godt, kan vi bruge entropi.\n",
    "\n",
    "Entropi stammer fra fysik og beskriver mængden af uorden i Universet. Når entropien er 0 vil Universet være perfekt ordnet, omvendt når vi har total kaos vil entropien være meget høj. Entropi bruges også i andre områder, heriblandt Machine Leraning. \n",
    "\n",
    "Vi kan bruge dette begreb i vores cluster analyse. Antag at hvert cluster er et 'univers', og det perfekte univers indeholder kun elementer som er ens, dvs. én spillertype pr. cluster. \n",
    "Mere realistisk, men stadig ideelt, vil vores cluster bestå af en hoved spillertype, med nogle få outliers, i form af andre spillertype. Det vi ønsker er at finde det antal cluster som giver den laveste entropi. <br>\n",
    "__Kør nedenstående celler. Giver analysen med entropi det samme som med elbow-metoden, diskutere?__"
   ]
  },
  {
   "cell_type": "code",
   "execution_count": null,
   "metadata": {
    "collapsed": true
   },
   "outputs": [],
   "source": [
    "def get_best_model(attributes, lables, max_k = 60):\n",
    "    positions_list = \"CB CF CM GK LB LM LW RB RM RW ST\".split(' ')\n",
    "    all_players = lables[positions_list].sum().sum()\n",
    "    resultater = []\n",
    "    \n",
    "    def entropi(pdf):\n",
    "        n = pdf.sum(axis=1) # rækkevis summering\n",
    "        return pdf.apply(lambda x: -x/n*np.log(x/n)).sum(axis=1, skipna=True)\n",
    "    \n",
    "    for i in range(5, max_k, 5):\n",
    "        km = cluster.KMeans(n_clusters=i, random_state= True)\n",
    "        lables['prediction'] = km.fit_predict(attributes)\n",
    "        grouped_df = lables.groupby(\n",
    "            'prediction', as_index=True)[positions_list].sum()\n",
    "        \n",
    "        weighted_sum_of_squared_entropi = (grouped_df.sum(axis=1)*entropi(grouped_df)).sum()/all_players\n",
    "        print('Antal cluster: {}, entropi: {}'.format(i, weighted_sum_of_squared_entropi))\n",
    "        resultater.append((i,weighted_sum_of_squared_entropi))\n",
    "    return resultater"
   ]
  },
  {
   "cell_type": "code",
   "execution_count": null,
   "metadata": {
    "scrolled": true
   },
   "outputs": [],
   "source": [
    "entropi = get_best_model(scaled_attributes_df,simplied_position_df)"
   ]
  },
  {
   "cell_type": "code",
   "execution_count": null,
   "metadata": {},
   "outputs": [],
   "source": [
    "fig = plt.figure(figsize=(20,10))\n",
    "ax = fig.gca()\n",
    "ax.grid(True, axis='x')\n",
    "plt.plot(list(map(lambda x: x[0], entropi)), list(map(lambda x: x[1], entropi)),'ro')\n",
    "plt.xticks(range(5, iterations+5, 5))\n",
    "plt.xlabel('Antal clustre', fontsize= 20)\n",
    "plt.ylabel('H', fontsize= 20, rotation= 'horizontal')\n",
    "ax.set_xticklabels(ax.get_xticks(), fontsize= 15)\n",
    "ax.set_yticklabels(ax.get_yticks(), fontsize= 15)\n",
    "plt.title('Entropien som funktion af antal clustre')\n",
    "plt.show()"
   ]
  },
  {
   "cell_type": "markdown",
   "metadata": {},
   "source": [
    "### Vi kører modellen igen igen"
   ]
  },
  {
   "cell_type": "code",
   "execution_count": null,
   "metadata": {},
   "outputs": [],
   "source": [
    "n_clusters = None ### INDSÆT ANTAL CLUSTRE ###\n",
    "entropi_position_df = run_kmeans(scaled_attributes_df, simplied_position_df, n_clusters)\n",
    "\n",
    "print_cluster_til_position(entropi_position_df, positions_list, figsize=(20,15))"
   ]
  },
  {
   "cell_type": "markdown",
   "metadata": {},
   "source": [
    "### Sidste opgave: Outliers i clustre\n",
    "\n",
    "Som en sidste analyse kan vi udtage et eller to clustre og se hvordan afstanden, fra datapunkt til centrum, forholder sig i clusteret. \n",
    "\n",
    "__Udvælg et cluster, som har en høj entropi, dvs. der er mange forskellige spillertyper i clusteret, og undersøg hvordan afstanden forholder sig. Brug nedenstående celle til at visualiser afstanden__"
   ]
  },
  {
   "cell_type": "code",
   "execution_count": null,
   "metadata": {},
   "outputs": [],
   "source": [
    "n_cluster = None ###INDSÆT ET CLUSTERTAL HER ###\n",
    "entropi_position_df[entropi_position_df['prediction'] == n_cluster]['distance']\n",
    "fig = plt.figure(figsize=(20, 10))\n",
    "ax = fig.gca()\n",
    "sb.distplot(entropi_position_df[entropi_position_df['prediction'] == n_cluster]['distance'], kde=False, ax=ax)\n",
    "ax.set_xlabel('Afstand', fontsize= 20)\n",
    "ax.set_xticklabels(ax.get_xticks(), fontsize= 15)\n",
    "ax.set_yticklabels(ax.get_yticks(), fontsize= 15)\n",
    "ax.set_ylabel('Antal', rotation='horizontal', fontsize= 20)\n",
    "plt.show()"
   ]
  },
  {
   "cell_type": "markdown",
   "metadata": {},
   "source": [
    "__Udtræk den eller de spillere som I mener, baseret på histogrammet, skulle være en outlier. Hvem er det? Kan vi se hvad det er som gør dem til outliers?__"
   ]
  },
  {
   "cell_type": "code",
   "execution_count": null,
   "metadata": {},
   "outputs": [],
   "source": [
    "distance_boundary = None ### INDSÆT ET AFSTANDSMÅL HER ###\n",
    "\n",
    "outliers = entropi_position_df[(entropi_position_df['prediction'] == n_cluster) &\n",
    "                               (entropi_position_df['distance'] > distance_boundary)]\n",
    "\n",
    "display(attribute_df[attribute_df.index.isin(outliers.index)])\n",
    "display(outliers)"
   ]
  },
  {
   "cell_type": "markdown",
   "metadata": {},
   "source": [
    "<img src='tenor.gif'\n",
    "     width=60%>\n",
    "     \n",
    "# Tillykke du har nu gennemført Teknisk Tirsdag omkring Machine Learning. \n",
    "### I løbet af disse to gange har vi gennemgået\n",
    "* Motivationen bag machine learning\n",
    "* Arbejdet med forskellige data cleaning methoder, herunder: konvertering af tekst til tal og fjernelse af unyttige kolonner. \n",
    "* Supervised Learning\n",
    "* Unsupervised Learning"
   ]
  },
  {
   "cell_type": "code",
   "execution_count": null,
   "metadata": {
    "collapsed": true
   },
   "outputs": [],
   "source": []
  }
 ],
 "metadata": {
  "kernelspec": {
   "display_name": "Python 3",
   "language": "python",
   "name": "python3"
  },
  "language_info": {
   "codemirror_mode": {
    "name": "ipython",
    "version": 3
   },
   "file_extension": ".py",
   "mimetype": "text/x-python",
   "name": "python",
   "nbconvert_exporter": "python",
   "pygments_lexer": "ipython3",
   "version": "3.5.2"
  }
 },
 "nbformat": 4,
 "nbformat_minor": 2
}
